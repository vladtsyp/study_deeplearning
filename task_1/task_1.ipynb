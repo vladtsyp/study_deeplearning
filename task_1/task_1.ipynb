{
  "nbformat": 4,
  "nbformat_minor": 0,
  "metadata": {
    "colab": {
      "provenance": [],
      "authorship_tag": "ABX9TyNe/kFC+1lLyhYKObvipYOW",
      "include_colab_link": true
    },
    "kernelspec": {
      "name": "python3",
      "display_name": "Python 3"
    },
    "language_info": {
      "name": "python"
    }
  },
  "cells": [
    {
      "cell_type": "markdown",
      "metadata": {
        "id": "view-in-github",
        "colab_type": "text"
      },
      "source": [
        "<a href=\"https://colab.research.google.com/github/vladtsyp/study_deeplearning/blob/main/task_1/task_1.ipynb\" target=\"_parent\"><img src=\"https://colab.research.google.com/assets/colab-badge.svg\" alt=\"Open In Colab\"/></a>"
      ]
    },
    {
      "cell_type": "markdown",
      "source": [
        "# Практическая работа №1. Построение простой нейросети в среде Google Colaboratory на языке программирования Python. Обучение базовой модели."
      ],
      "metadata": {
        "id": "jKEL-KfREfyh"
      }
    },
    {
      "cell_type": "markdown",
      "source": [
        "##### **Задание 1.** Напишите функцию, которая присваивает w1 и w2 случайные веса."
      ],
      "metadata": {
        "id": "NOLdnbjJEjQH"
      }
    },
    {
      "cell_type": "code",
      "execution_count": null,
      "metadata": {
        "colab": {
          "base_uri": "https://localhost:8080/"
        },
        "id": "HX6a1QBAEbv-",
        "outputId": "711b2596-d71e-49a3-ac3f-f12b9bc62170"
      },
      "outputs": [
        {
          "output_type": "stream",
          "name": "stdout",
          "text": [
            "0.43 0.8\n"
          ]
        }
      ],
      "source": [
        "from random import randint\n",
        "\n",
        "def get_random_weight():\n",
        "  w1 = randint(0, 100)/100\n",
        "  w2 = randint(0, 100)/100\n",
        "  return (w1, w2)\n",
        "\n",
        "w1, w2 = get_random_weight()\n",
        "print(w1, w2)"
      ]
    },
    {
      "cell_type": "markdown",
      "source": [
        "##### **Задание 2.** Напишите функцию, которая делает проверку сразу всех примеров учебного набора с текущими весами."
      ],
      "metadata": {
        "id": "tkaS97-LHK3f"
      }
    },
    {
      "cell_type": "code",
      "source": [
        "def predict(x_train, w):\n",
        "  summator = x_train[0] * w[0] + x_train[1] * w[1]\n",
        "  act = 1 if summator >= 1 else 0\n",
        "  return act"
      ],
      "metadata": {
        "id": "is4RCztbHWdO"
      },
      "execution_count": null,
      "outputs": []
    },
    {
      "cell_type": "markdown",
      "source": [
        "##### **Задание 3.** Со случайными стартовыми весами обучить нейрон дельта методом для следующих операций:\n",
        "> КОНЪЮНКЦИЯ, \n",
        "ДИЗЪЮНКЦИЯ,\n",
        "XOR,\n",
        "КОНЪЮНКЦИЯ ОТРИЦАНИЯ Х1 И Х2,\n",
        "КОНЪЮНКЦИЯ Х1 И ОТРИЦАНИЯ Х2\n",
        "\n",
        "Составить отчет по результатам: название операции, стартовые веса, точность модели на старте (сколько ошибок), скорость обучения, возможно ли обучить нейрон для получения 100%-ной точности, сколько эпох потребовалось, итоговые веса.\n",
        "Для какой из приведенных логических операций не получится обучить нейрон и почему?"
      ],
      "metadata": {
        "id": "Vnt7a_ujIBYO"
      }
    },
    {
      "cell_type": "code",
      "source": [
        "from tabulate import tabulate\n",
        "\n",
        "def train(x_train, y_train, w, speed, predict=predict):\n",
        "  head = ['веса', 'ошибка', 'предсказание', 'истина']\n",
        "  data = []\n",
        "  for i in range(len(x_train)):\n",
        "    error = y_train[i] - predict(x_train[i], w)\n",
        "    data.append([[w[0], w[1]], error, predict(x_train[i], w), y_train[i]])\n",
        "    # print(w, error)\n",
        "    # корректировка ошибок\n",
        "    if error != 0:\n",
        "      w[0] = w[0] + error * x_train[i][0] * speed\n",
        "      w[1] = w[1] + error * x_train[i][1] * speed\n",
        "      data.append([[w[0], w[1]], '*', predict(x_train[i], w), y_train[i]])\n",
        "      # print(w)\n",
        "  print(tabulate(data, head, tablefmt=\"github\")) # display table\n",
        "\n",
        "x_test = [[0, 0], [0, 1], [1, 0], [1, 1]] # для тестирования предсказаний"
      ],
      "metadata": {
        "id": "SHQ8KZdSnggC"
      },
      "execution_count": null,
      "outputs": []
    },
    {
      "cell_type": "markdown",
      "source": [
        "###### КОНЪЮКЦИЯ"
      ],
      "metadata": {
        "id": "7gBpH1DjZ3T5"
      }
    },
    {
      "cell_type": "code",
      "source": [
        "w0 = list(get_random_weight())\n",
        "x_train_and = [[0, 0], [0, 1], [1, 0], [1, 1]] # входные данные\n",
        "y_train_and = [0, 0, 0, 1] # корректные значения\n",
        "w0"
      ],
      "metadata": {
        "colab": {
          "base_uri": "https://localhost:8080/"
        },
        "id": "ww5TYrdOI6QG",
        "outputId": "a9946028-0659-4398-f58b-a6c756e89eb6"
      },
      "execution_count": null,
      "outputs": [
        {
          "output_type": "execute_result",
          "data": {
            "text/plain": [
              "[0.6, 0.25]"
            ]
          },
          "metadata": {},
          "execution_count": 660
        }
      ]
    },
    {
      "cell_type": "code",
      "source": [
        "train(x_train_and, y_train_and, w0, 0.3)"
      ],
      "metadata": {
        "colab": {
          "base_uri": "https://localhost:8080/"
        },
        "id": "PoA3EoQtKpiN",
        "outputId": "383b318f-9bf0-41f8-d6dc-ac351e124557"
      },
      "execution_count": null,
      "outputs": [
        {
          "output_type": "stream",
          "name": "stdout",
          "text": [
            "| веса                       |   ошибка |   предсказание |   истина |\n",
            "|----------------------------|----------|----------------|----------|\n",
            "| [0.8999999999999999, 0.55] |        0 |              0 |        0 |\n",
            "| [0.8999999999999999, 0.55] |        0 |              0 |        0 |\n",
            "| [0.8999999999999999, 0.55] |        0 |              0 |        0 |\n",
            "| [0.8999999999999999, 0.55] |        0 |              1 |        1 |\n"
          ]
        }
      ]
    },
    {
      "cell_type": "code",
      "source": [
        "for x in x_test:\n",
        "  print(x, predict(x, w0))"
      ],
      "metadata": {
        "colab": {
          "base_uri": "https://localhost:8080/"
        },
        "id": "DLNXO3cbK8V0",
        "outputId": "4841feb1-1083-45df-cfba-64a8755bf87d"
      },
      "execution_count": null,
      "outputs": [
        {
          "output_type": "stream",
          "name": "stdout",
          "text": [
            "[0, 0] 0\n",
            "[0, 1] 0\n",
            "[1, 0] 0\n",
            "[1, 1] 1\n"
          ]
        }
      ]
    },
    {
      "cell_type": "markdown",
      "source": [
        "###### ДИЗЪЮНКЦИЯ"
      ],
      "metadata": {
        "id": "WSs82PsmaDBt"
      }
    },
    {
      "cell_type": "code",
      "source": [
        "w1 = list(get_random_weight())\n",
        "x_train_or = [[0, 0], [0, 1], [1, 0], [1, 1]] # входные данные\n",
        "y_train_or = [0, 1, 1, 1] # корректные значения\n",
        "w1"
      ],
      "metadata": {
        "colab": {
          "base_uri": "https://localhost:8080/"
        },
        "id": "9LStIbPLaGIE",
        "outputId": "5c768d77-943d-4c54-fded-553506acc79b"
      },
      "execution_count": null,
      "outputs": [
        {
          "output_type": "execute_result",
          "data": {
            "text/plain": [
              "[0.03, 0.33]"
            ]
          },
          "metadata": {},
          "execution_count": 663
        }
      ]
    },
    {
      "cell_type": "code",
      "source": [
        "train(x_train_or, y_train_or, w1, 0.3)"
      ],
      "metadata": {
        "colab": {
          "base_uri": "https://localhost:8080/"
        },
        "id": "e2xOQE14kqw6",
        "outputId": "1ab0dc6d-a9ef-4bd4-d89e-7435dc7a3a2d"
      },
      "execution_count": null,
      "outputs": [
        {
          "output_type": "stream",
          "name": "stdout",
          "text": [
            "| веса         |   ошибка |   предсказание |   истина |\n",
            "|--------------|----------|----------------|----------|\n",
            "| [1.23, 1.23] |        0 |              0 |        0 |\n",
            "| [1.23, 1.23] |        0 |              1 |        1 |\n",
            "| [1.23, 1.23] |        0 |              1 |        1 |\n",
            "| [1.23, 1.23] |        0 |              1 |        1 |\n"
          ]
        }
      ]
    },
    {
      "cell_type": "code",
      "source": [
        "for x in x_test:\n",
        "  print(x, predict(x, w1))"
      ],
      "metadata": {
        "colab": {
          "base_uri": "https://localhost:8080/"
        },
        "id": "7NJIlwvZk48q",
        "outputId": "2e6e6adf-e1b0-4d15-9ca8-d5072bf8fcda"
      },
      "execution_count": null,
      "outputs": [
        {
          "output_type": "stream",
          "name": "stdout",
          "text": [
            "[0, 0] 0\n",
            "[0, 1] 1\n",
            "[1, 0] 1\n",
            "[1, 1] 1\n"
          ]
        }
      ]
    },
    {
      "cell_type": "markdown",
      "source": [
        "###### XOR (не получится)"
      ],
      "metadata": {
        "id": "ioQe17VLk_i5"
      }
    },
    {
      "cell_type": "code",
      "source": [
        "w2 = list(get_random_weight())\n",
        "x_train_xor = [[0, 0], [0, 1], [1, 0], [1, 1]] # входные данные\n",
        "y_train_xor = [0, 1, 1, 0] # корректные значения\n",
        "w2"
      ],
      "metadata": {
        "colab": {
          "base_uri": "https://localhost:8080/"
        },
        "id": "fZTQqF_elBYy",
        "outputId": "f097bd3f-73a0-49ce-b069-3da3c433a540"
      },
      "execution_count": null,
      "outputs": [
        {
          "output_type": "execute_result",
          "data": {
            "text/plain": [
              "[0.89, 0.33]"
            ]
          },
          "metadata": {},
          "execution_count": 666
        }
      ]
    },
    {
      "cell_type": "code",
      "source": [
        "train(x_train_xor, y_train_xor, w2, 0.1)"
      ],
      "metadata": {
        "colab": {
          "base_uri": "https://localhost:8080/"
        },
        "id": "9HZHIRhxljy5",
        "outputId": "585839c1-329d-47cc-cb9b-dbd058cd47a1"
      },
      "execution_count": null,
      "outputs": [
        {
          "output_type": "stream",
          "name": "stdout",
          "text": [
            "| веса                        | ошибка   |   предсказание |   истина |\n",
            "|-----------------------------|----------|----------------|----------|\n",
            "| [0.89, 0.33]                | 0        |              0 |        0 |\n",
            "| [0.89, 0.33]                | 1        |              0 |        1 |\n",
            "| [0.89, 0.43000000000000005] | *        |              0 |        1 |\n",
            "| [0.89, 0.43000000000000005] | 1        |              0 |        1 |\n",
            "| [0.99, 0.43000000000000005] | *        |              0 |        1 |\n",
            "| [0.99, 0.43000000000000005] | -1       |              1 |        0 |\n",
            "| [0.89, 0.33000000000000007] | *        |              1 |        0 |\n"
          ]
        }
      ]
    },
    {
      "cell_type": "markdown",
      "source": [
        "###### КОНЪЮНКЦИЯ ОТРИЦАНИЯ Х1 И Х2"
      ],
      "metadata": {
        "id": "TsQa-6f0mScS"
      }
    },
    {
      "cell_type": "code",
      "source": [
        "w3 = list(get_random_weight())\n",
        "x_train_K1 = [[0, 0], [0, 1], [1, 0], [1, 1]]\n",
        "y_train_K1 = [0, 1, 0, 0]\n",
        "w3"
      ],
      "metadata": {
        "colab": {
          "base_uri": "https://localhost:8080/"
        },
        "id": "Bn-0g5AAmbhB",
        "outputId": "aeae6ec8-eaef-4f3c-8e0f-b6ec3a50d2f0"
      },
      "execution_count": null,
      "outputs": [
        {
          "output_type": "execute_result",
          "data": {
            "text/plain": [
              "[0.69, 0.57]"
            ]
          },
          "metadata": {},
          "execution_count": 668
        }
      ]
    },
    {
      "cell_type": "code",
      "source": [
        "train(x_train_K1, y_train_K1, w3, 0.3)"
      ],
      "metadata": {
        "colab": {
          "base_uri": "https://localhost:8080/"
        },
        "id": "1R9mpZj3m3wR",
        "outputId": "1b4b1b4c-54bc-49e2-90ee-c14042d859d3"
      },
      "execution_count": null,
      "outputs": [
        {
          "output_type": "stream",
          "name": "stdout",
          "text": [
            "| веса                         |   ошибка |   предсказание |   истина |\n",
            "|------------------------------|----------|----------------|----------|\n",
            "| [-0.21000000000000002, 1.17] |        0 |              0 |        0 |\n",
            "| [-0.21000000000000002, 1.17] |        0 |              1 |        1 |\n",
            "| [-0.21000000000000002, 1.17] |        0 |              0 |        0 |\n",
            "| [-0.21000000000000002, 1.17] |        0 |              0 |        0 |\n"
          ]
        }
      ]
    },
    {
      "cell_type": "code",
      "source": [
        "for x in x_test:\n",
        "  print(x, predict(x, w3))"
      ],
      "metadata": {
        "colab": {
          "base_uri": "https://localhost:8080/"
        },
        "id": "a1xVaS35r3n_",
        "outputId": "f4f597c7-7eed-4225-f7e4-0081969a3a19"
      },
      "execution_count": null,
      "outputs": [
        {
          "output_type": "stream",
          "name": "stdout",
          "text": [
            "[0, 0] 0\n",
            "[0, 1] 1\n",
            "[1, 0] 0\n",
            "[1, 1] 0\n"
          ]
        }
      ]
    },
    {
      "cell_type": "markdown",
      "source": [
        "###### КОНЪЮНКЦИЯ Х1 И ОТРИЦАНИЯ Х2"
      ],
      "metadata": {
        "id": "sll5NJbHmU55"
      }
    },
    {
      "cell_type": "code",
      "source": [
        "w4 = list(get_random_weight())\n",
        "x_train_K2 = [[0, 0], [0, 1], [1, 0], [1, 1]]\n",
        "y_train_K2 = [0, 0, 1, 0]\n",
        "w4"
      ],
      "metadata": {
        "colab": {
          "base_uri": "https://localhost:8080/"
        },
        "id": "SOOhgCuUsLve",
        "outputId": "15bb76e5-b736-4dd4-9746-9ed9825c87e9"
      },
      "execution_count": null,
      "outputs": [
        {
          "output_type": "execute_result",
          "data": {
            "text/plain": [
              "[0.09, 0.63]"
            ]
          },
          "metadata": {},
          "execution_count": 671
        }
      ]
    },
    {
      "cell_type": "code",
      "source": [
        "train(x_train_K2, y_train_K2, w4, 0.3)"
      ],
      "metadata": {
        "colab": {
          "base_uri": "https://localhost:8080/"
        },
        "id": "0Q3aq8xUsYUo",
        "outputId": "b3772e40-e18c-4df4-814a-161b0a3bd19e"
      },
      "execution_count": null,
      "outputs": [
        {
          "output_type": "stream",
          "name": "stdout",
          "text": [
            "| веса          |   ошибка |   предсказание |   истина |\n",
            "|---------------|----------|----------------|----------|\n",
            "| [1.29, -0.57] |        0 |              0 |        0 |\n",
            "| [1.29, -0.57] |        0 |              0 |        0 |\n",
            "| [1.29, -0.57] |        0 |              1 |        1 |\n",
            "| [1.29, -0.57] |        0 |              0 |        0 |\n"
          ]
        }
      ]
    },
    {
      "cell_type": "code",
      "source": [
        "for x in x_test:\n",
        "  print(x, predict(x, w4))"
      ],
      "metadata": {
        "colab": {
          "base_uri": "https://localhost:8080/"
        },
        "id": "eNwlKPf-sgs2",
        "outputId": "974268ef-1b83-4dcb-a3b7-ef7c1963bf6b"
      },
      "execution_count": null,
      "outputs": [
        {
          "output_type": "stream",
          "name": "stdout",
          "text": [
            "[0, 0] 0\n",
            "[0, 1] 0\n",
            "[1, 0] 1\n",
            "[1, 1] 0\n"
          ]
        }
      ]
    },
    {
      "cell_type": "markdown",
      "source": [
        "##### **Задание 4.** Изменить кодировку данных и функцию активации. Новые параметры: 1 - истина, -1 - ложь.\n",
        "Функция активации: пороговая; если полученное значение больше 0, результат =1, иначе =-1.\n",
        "\n",
        "Со случайными стартовыми весами обучить нейрон дельта методом для следующих операций:\n",
        "КОНЪЮНКЦИЯ.\n",
        "\n",
        "Возможно ли обучить нейрон с указанными параметрами дельта методом и какой коэффициент скорости обучения потребуется установить?\n",
        "Возможно ли подобрать веса для данной операции без машинного обучения?"
      ],
      "metadata": {
        "id": "yF0BwTWjtH9o"
      }
    },
    {
      "cell_type": "code",
      "source": [
        "def predict_t4(x_train, w):\n",
        "  summator = x_train[0] * w[0] + x_train[1] * w[1]\n",
        "  act = 1 if summator > 0 else -1\n",
        "  return act"
      ],
      "metadata": {
        "id": "GGwcqyNotsEt"
      },
      "execution_count": null,
      "outputs": []
    },
    {
      "cell_type": "code",
      "source": [
        "w5 = list(get_random_weight())\n",
        "x_train_and2 = [[-1, -1], [-1, 1], [1, -1], [1, 1]]\n",
        "y_train_and2 = [-1, -1, -1, 1]\n",
        "w5"
      ],
      "metadata": {
        "colab": {
          "base_uri": "https://localhost:8080/"
        },
        "id": "nYvjU4IkunDe",
        "outputId": "3b40a6aa-abbb-422e-d04d-3e437c7475bf"
      },
      "execution_count": null,
      "outputs": [
        {
          "output_type": "execute_result",
          "data": {
            "text/plain": [
              "[0.09, 0.41]"
            ]
          },
          "metadata": {},
          "execution_count": 675
        }
      ]
    },
    {
      "cell_type": "code",
      "source": [
        "train(x_train_and2, y_train_and2, w5, 0.3, predict_t4)"
      ],
      "metadata": {
        "colab": {
          "base_uri": "https://localhost:8080/"
        },
        "id": "1n-3RObcuzU9",
        "outputId": "bbe5d829-bdd3-45ef-d7e4-f5046da11a2e"
      },
      "execution_count": null,
      "outputs": [
        {
          "output_type": "stream",
          "name": "stdout",
          "text": [
            "| веса                        | ошибка   |   предсказание |   истина |\n",
            "|-----------------------------|----------|----------------|----------|\n",
            "| [0.09, 0.41]                | 0        |             -1 |       -1 |\n",
            "| [0.09, 0.41]                | -2       |              1 |       -1 |\n",
            "| [0.69, -0.19]               | *        |             -1 |       -1 |\n",
            "| [0.69, -0.19]               | -2       |              1 |       -1 |\n",
            "| [0.08999999999999997, 0.41] | *        |             -1 |       -1 |\n",
            "| [0.08999999999999997, 0.41] | 0        |              1 |        1 |\n"
          ]
        }
      ]
    },
    {
      "cell_type": "markdown",
      "source": [
        "##### **Задание 5.** Добавить еще один вход данных на нейрон (на дополнительный вход всегда приходит единица, это аналог нейрона смещения). \n",
        "Потребуется переписать все функции. Получится ли теперь дельта методом обучить нейрон с параметрами из задания 4?"
      ],
      "metadata": {
        "id": "je95-miYznRc"
      }
    },
    {
      "cell_type": "code",
      "source": [
        "def get_random_weight_t5():\n",
        "  w1 = randint(0, 100)/100\n",
        "  w2 = randint(0, 100)/100\n",
        "  w3 = randint(0, 100)/100\n",
        "  return [w1, w2, w3]\n",
        "\n",
        "def predict_t5(x_train, w):\n",
        "  summator = x_train[0] * w[0] + x_train[1] * w[1] + x_train[2] * w[2]\n",
        "  act = 1 if summator > 0 else -1\n",
        "  return act\n",
        "\n",
        "def train_t5(x_train, y_train, w, speed, predict=predict):\n",
        "  head = ['веса', 'ошибка', 'предсказание', 'истина']\n",
        "  data = []\n",
        "  for i in range(len(x_train)):\n",
        "    error = y_train[i] - predict(x_train[i], w)\n",
        "    data.append([[w[0], w[1], w[2]], error, predict(x_train[i], w), y_train[i]])\n",
        "    # print(w, error)\n",
        "    # корректировка ошибок\n",
        "    if error != 0:\n",
        "      w[0] = w[0] + error * x_train[i][0] * speed\n",
        "      w[1] = w[1] + error * x_train[i][1] * speed\n",
        "      w[2] = w[2] + error * x_train[i][2] * speed\n",
        "      data.append([[w[0], w[1], w[2]], '*', predict(x_train[i], w), y_train[i]])\n",
        "      # print(w)\n",
        "  print(tabulate(data, head, tablefmt=\"github\")) # display table"
      ],
      "metadata": {
        "id": "ISuOKCFVzr1j"
      },
      "execution_count": null,
      "outputs": []
    },
    {
      "cell_type": "code",
      "source": [
        "w6 = get_random_weight_t5()\n",
        "x_train_and3 = [[-1, -1, 1], [-1, 1, 1], [1, -1, 1], [1, 1, 1]]\n",
        "y_train_and3 = [-1, -1, -1, 1]\n",
        "w6"
      ],
      "metadata": {
        "colab": {
          "base_uri": "https://localhost:8080/"
        },
        "id": "IQB-ysGZ0zCD",
        "outputId": "9b13afd1-b01f-4b20-e32e-231f55f36a79"
      },
      "execution_count": null,
      "outputs": [
        {
          "output_type": "execute_result",
          "data": {
            "text/plain": [
              "[0.13, 0.84, 0.82]"
            ]
          },
          "metadata": {},
          "execution_count": 678
        }
      ]
    },
    {
      "cell_type": "code",
      "source": [
        "train_t5(x_train_and3, y_train_and3, w6, 0.3, predict_t5)"
      ],
      "metadata": {
        "colab": {
          "base_uri": "https://localhost:8080/"
        },
        "id": "S2EhszAW1Bfz",
        "outputId": "e65a4780-58f6-4ae8-a102-8b991e9da2f6"
      },
      "execution_count": null,
      "outputs": [
        {
          "output_type": "stream",
          "name": "stdout",
          "text": [
            "| веса                              |   ошибка |   предсказание |   истина |\n",
            "|-----------------------------------|----------|----------------|----------|\n",
            "| [0.7300000000000001, 1.44, -0.98] |        0 |             -1 |       -1 |\n",
            "| [0.7300000000000001, 1.44, -0.98] |        0 |             -1 |       -1 |\n",
            "| [0.7300000000000001, 1.44, -0.98] |        0 |             -1 |       -1 |\n",
            "| [0.7300000000000001, 1.44, -0.98] |        0 |              1 |        1 |\n"
          ]
        }
      ]
    },
    {
      "cell_type": "markdown",
      "source": [
        "##### **Задание 6.** Создать и обучить простую нейронную сеть, состоящую из трех нейронов, которая решает задачу XOR (исключающее ИЛИ).  \n",
        "![0дл.JPG](data:image/jpeg;base64,/9j/4AAQSkZJRgABAQEAeAB4AAD/4REERXhpZgAATU0AKgAAAAgABAE7AAIAAAAcAAAISodpAAQAAAABAAAIZpydAAEAAAAeAAAQ3uocAAcAAAgMAAAAPgAAAAAc6gAAAAgAAAAAAAAAAAAAAAAAAAAAAAAAAAAAAAAAAAAAAAAAAAAAAAAAAAAAAAAAAAAAAAAAAAAAAAAAAAAAAAAAAAAAAAAAAAAAAAAAAAAAAAAAAAAAAAAAAAAAAAAAAAAAAAAAAAAAAAAAAAAAAAAAAAAAAAAAAAAAAAAAAAAAAAAAAAAAAAAAAAAAAAAAAAAAAAAAAAAAAAAAAAAAAAAAAAAAAAAAAAAAAAAAAAAAAAAAAAAAAAAAAAAAAAAAAAAAAAAAAAAAAAAAAAAAAAAAAAAAAAAAAAAAAAAAAAAAAAAAAAAAAAAAAAAAAAAAAAAAAAAAAAAAAAAAAAAAAAAAAAAAAAAAAAAAAAAAAAAAAAAAAAAAAAAAAAAAAAAAAAAAAAAAAAAAAAAAAAAAAAAAAAAAAAAAAAAAAAAAAAAAAAAAAAAAAAAAAAAAAAAAAAAAAAAAAAAAAAAAAAAAAAAAAAAAAAAAAAAAAAAAAAAAAAAAAAAAAAAAAAAAAAAAAAAAAAAAAAAAAAAAAAAAAAAAAAAAAAAAAAAAAAAAAAAAAAAAAAAAAAAAAAAAAAAAAAAAAAAAAAAAAAAAAAAAAAAAAAAAAAAAAAAAAAAAAAAAAAAAAAAAAAAAAAAAAAAAAAAAAAAAAAAAAAAAAAAAAAAAAAAAAAAAAAAAAAAAAAAAAAAAAAAAAAAAAAAAAAAAAAAAAAAAAAAAAAAAAAAAAAAAAAAAAAAAAAAAAAAAAAAAAAAAAAAAAAAAAAAAAAAAAAAAAAAAAAAAAAAAAAAAAAAAAAAAAAAAAAAAAAAAAAAAAAAAAAAAAAAAAAAAAAAAAAAAAAAAAAAAAAAAAAAAAAAAAAAAAAAAAAAAAAAAAAAAAAAAAAAAAAAAAAAAAAAAAAAAAAAAAAAAAAAAAAAAAAAAAAAAAAAAAAAAAAAAAAAAAAAAAAAAAAAAAAAAAAAAAAAAAAAAAAAAAAAAAAAAAAAAAAAAAAAAAAAAAAAAAAAAAAAAAAAAAAAAAAAAAAAAAAAAAAAAAAAAAAAAAAAAAAAAAAAAAAAAAAAAAAAAAAAAAAAAAAAAAAAAAAAAAAAAAAAAAAAAAAAAAAAAAAAAAAAAAAAAAAAAAAAAAAAAAAAAAAAAAAAAAAAAAAAAAAAAAAAAAAAAAAAAAAAAAAAAAAAAAAAAAAAAAAAAAAAAAAAAAAAAAAAAAAAAAAAAAAAAAAAAAAAAAAAAAAAAAAAAAAAAAAAAAAAAAAAAAAAAAAAAAAAAAAAAAAAAAAAAAAAAAAAAAAAAAAAAAAAAAAAAAAAAAAAAAAAAAAAAAAAAAAAAAAAAAAAAAAAAAAAAAAAAAAAAAAAAAAAAAAAAAAAAAAAAAAAAAAAAAAAAAAAAAAAAAAAAAAAAAAAAAAAAAAAAAAAAAAAAAAAAAAAAAAAAAAAAAAAAAAAAAAAAAAAAAAAAAAAAAAAAAAAAAAAAAAAAAAAAAAAAAAAAAAAAAAAAAAAAAAAAAAAAAAAAAAAAAAAAAAAAAAAAAAAAAAAAAAAAAAAAAAAAAAAAAAAAAAAAAAAAAAAAAAAAAAAAAAAAAAAAAAAAAAAAAAAAAAAAAAAAAAAAAAAAAAAAAAAAAAAAAAAAAAAAAAAAAAAAAAAAAAAAAAAAAAAAAAAAAAAAAAAAAAAAAAAAAAAAAAAAAAAAAAAAAAAAAAAAAAAAAAAAAAAAAAAAAAAAAAAAAAAAAAAAAAAAAAAAAAAAAAAAAAAAAAAAAAAAAAAAAAAAAAAAAAAAAAAAAAAAAAAAAAAAAAAAAAAAAAAAAAAAAAAAAAAAAAAAAAAAAAAAAAAAAAAAAAAAAAAAAAAAAAAAAAAAAAAAAAAAAAAAAAAAAAAAAAAAAAAAAAAAAAAAAAAAAAAAAAAAAAAAAAAAAAAAAAAAAAAAAAAAAAAAAAAAAAAAAAAAAAAAAAAAAAAAAAAAAAAAAAAAAAAAAAAAAAAAAAAAAAAAAAAAAAAAAAAAAAAAAAAAAAAAAAAAAAAAAAAAAAAAAAAAAAAAAAAAAAAAAAAAAAAAAAAAAAAAAAAAAAAAAAAAAAAAAAAAAAAAAAAAAAAAAAAAAAAAAAAAAAAAAAAAAAAAAAAAAAAAAAAAAAAAAAAAAAAAAAAAAAAAAAAAAAAAAAAAAAAAAAAAAAAAAAAAAAAAAAAAAAAAAAAAAAAAAAAAAAAAAAAAAAAAAAAAAAAAAAAAAAAAAAAAAAAAAAAAAAAAAAAAAAAAAAAAAAAAAAAAAAAAAAAAAAAAAAAAAAAAAAAAAAAAAAAAAAAAAAAAAAAAAAAAAAAAAAAAAAAAAAAAAAAAAAAAAAAAAAAAAAAAAAAAAAAAAAAAAAAAAAAAAAAAAAAAAAAAAAAAAAAAAAAAAAAAAAAAAAAAAAAAAAAAAAAAAAAAAAAAAAAAAAAAAAAAAAAAAAAAAAAAAAAAAAAAAAAAAAAAAAAAAAAAAAAAAAAAAAAAAAAAAAAAAAAAAAAAAAAAAAAAAAAAAAAAAAAAAAAAAAAAAAAAAAAAAAAAAAAAAAAAAAAAAAAAAAAAAAAAAAAAAAAAAAAAAAAAAAAAAAAAAAAAAAAAAAAAAAAAAAAAAAAAAAAAAAAAAAAAAAAAAAAAAAAAAAAAAAAAAAAAAAAAAAAAAAAAAAAAAAAAAAAAAAAAAAAAAAAAAAAAAAAAAAAAAAAAAAAAAAAAAAAAAAAAAAAAAAAAAAAAAAAAAAAAAAAAAAAAAAAAANCS0LvQsNC0INCm0YvQv9C70LXQvdC60L7QsgAABZADAAIAAAAUAAAQtJAEAAIAAAAUAAAQyJKRAAIAAAADNjMAAJKSAAIAAAADNjMAAOocAAcAAAgMAAAIqAAAAAAc6gAAAAgAAAAAAAAAAAAAAAAAAAAAAAAAAAAAAAAAAAAAAAAAAAAAAAAAAAAAAAAAAAAAAAAAAAAAAAAAAAAAAAAAAAAAAAAAAAAAAAAAAAAAAAAAAAAAAAAAAAAAAAAAAAAAAAAAAAAAAAAAAAAAAAAAAAAAAAAAAAAAAAAAAAAAAAAAAAAAAAAAAAAAAAAAAAAAAAAAAAAAAAAAAAAAAAAAAAAAAAAAAAAAAAAAAAAAAAAAAAAAAAAAAAAAAAAAAAAAAAAAAAAAAAAAAAAAAAAAAAAAAAAAAAAAAAAAAAAAAAAAAAAAAAAAAAAAAAAAAAAAAAAAAAAAAAAAAAAAAAAAAAAAAAAAAAAAAAAAAAAAAAAAAAAAAAAAAAAAAAAAAAAAAAAAAAAAAAAAAAAAAAAAAAAAAAAAAAAAAAAAAAAAAAAAAAAAAAAAAAAAAAAAAAAAAAAAAAAAAAAAAAAAAAAAAAAAAAAAAAAAAAAAAAAAAAAAAAAAAAAAAAAAAAAAAAAAAAAAAAAAAAAAAAAAAAAAAAAAAAAAAAAAAAAAAAAAAAAAAAAAAAAAAAAAAAAAAAAAAAAAAAAAAAAAAAAAAAAAAAAAAAAAAAAAAAAAAAAAAAAAAAAAAAAAAAAAAAAAAAAAAAAAAAAAAAAAAAAAAAAAAAAAAAAAAAAAAAAAAAAAAAAAAAAAAAAAAAAAAAAAAAAAAAAAAAAAAAAAAAAAAAAAAAAAAAAAAAAAAAAAAAAAAAAAAAAAAAAAAAAAAAAAAAAAAAAAAAAAAAAAAAAAAAAAAAAAAAAAAAAAAAAAAAAAAAAAAAAAAAAAAAAAAAAAAAAAAAAAAAAAAAAAAAAAAAAAAAAAAAAAAAAAAAAAAAAAAAAAAAAAAAAAAAAAAAAAAAAAAAAAAAAAAAAAAAAAAAAAAAAAAAAAAAAAAAAAAAAAAAAAAAAAAAAAAAAAAAAAAAAAAAAAAAAAAAAAAAAAAAAAAAAAAAAAAAAAAAAAAAAAAAAAAAAAAAAAAAAAAAAAAAAAAAAAAAAAAAAAAAAAAAAAAAAAAAAAAAAAAAAAAAAAAAAAAAAAAAAAAAAAAAAAAAAAAAAAAAAAAAAAAAAAAAAAAAAAAAAAAAAAAAAAAAAAAAAAAAAAAAAAAAAAAAAAAAAAAAAAAAAAAAAAAAAAAAAAAAAAAAAAAAAAAAAAAAAAAAAAAAAAAAAAAAAAAAAAAAAAAAAAAAAAAAAAAAAAAAAAAAAAAAAAAAAAAAAAAAAAAAAAAAAAAAAAAAAAAAAAAAAAAAAAAAAAAAAAAAAAAAAAAAAAAAAAAAAAAAAAAAAAAAAAAAAAAAAAAAAAAAAAAAAAAAAAAAAAAAAAAAAAAAAAAAAAAAAAAAAAAAAAAAAAAAAAAAAAAAAAAAAAAAAAAAAAAAAAAAAAAAAAAAAAAAAAAAAAAAAAAAAAAAAAAAAAAAAAAAAAAAAAAAAAAAAAAAAAAAAAAAAAAAAAAAAAAAAAAAAAAAAAAAAAAAAAAAAAAAAAAAAAAAAAAAAAAAAAAAAAAAAAAAAAAAAAAAAAAAAAAAAAAAAAAAAAAAAAAAAAAAAAAAAAAAAAAAAAAAAAAAAAAAAAAAAAAAAAAAAAAAAAAAAAAAAAAAAAAAAAAAAAAAAAAAAAAAAAAAAAAAAAAAAAAAAAAAAAAAAAAAAAAAAAAAAAAAAAAAAAAAAAAAAAAAAAAAAAAAAAAAAAAAAAAAAAAAAAAAAAAAAAAAAAAAAAAAAAAAAAAAAAAAAAAAAAAAAAAAAAAAAAAAAAAAAAAAAAAAAAAAAAAAAAAAAAAAAAAAAAAAAAAAAAAAAAAAAAAAAAAAAAAAAAAAAAAAAAAAAAAAAAAAAAAAAAAAAAAAAAAAAAAAAAAAAAAAAAAAAAAAAAAAAAAAAAAAAAAAAAAAAAAAAAAAAAAAAAAAAAAAAAAAAAAAAAAAAAAAAAAAAAAAAAAAAAAAAAAAAAAAAAAAAAAAAAAAAAAAAAAAAAAAAAAAAAAAAAAAAAAAAAAAAAAAAAAAAAAAAAAAAAAAAAAAAAAAAAAAAAAAAAAAAAAAAAAAAAAAAAAAAAAAAAAAAAAAAAAAAAAAAAAAAAAAAAAAAAAAAAAAAAAAAAAAAAAAAAAAAAAAAAAAAAAAAAAAAAAAAAAAAAAAAAAAAAAAAAAAAAAAAAAAAAAAAAAAAAAAAAAAAAAAAAAAAAAAAAAAAAAAAAAAAAAAAAAAAAAAAAAAAAAAAAAAAAAAAAAAAAAAAAAAAAAAAAAAAAAAAAAAAAAAAAAAAAAAAAAAAAAAAAAAAAAAAAAAAAAAAAAAAAAAAAAAAAAAAAAAAAAAAAAAAAAAAAAAAAAAAAAAAAAAAAAAAAAAAAAAAAAAAAAAAAAAAAAAAAAAAAAAAAAAAAAAAAAAAAAAAAAAAAAAAAAAAAAAAAAAAAAAAAAAAAAAAAAAAAAAAAAAAAAAAAAAAAAAAAAAAAAAAAAAAAAAAAAAAAAAAAAAAAAAAAAAAAAAAAAAAAAAAAAAAAAAAAAAAAAAAAAAAAAAAAAAAAAAAAAAAAAAAAAAAAAAAAAAAAAAAAAAAAAAAAAAAAAAAAAAAAAAAAAAAAAAAAAAAAAAAAAAAAAAAAAAAAAAAAAAAAAAAAAAAAAAAAAAAAAAAAAAAAAAAAAAAAAAAAAAAAAAAAAAAAAAAAAAAAAAAAAAAAAAAAAAAAAAAAAAAAAAAAAAAAAAAAAAAAAAAAAAAAADIwMjM6MDM6MjAgMTk6NDE6MzIAMjAyMzowMzoyMCAxOTo0MTozMgAAABIEOwQwBDQEIAAmBEsEPwQ7BDUEPQQ6BD4EMgQAAP/hCy5odHRwOi8vbnMuYWRvYmUuY29tL3hhcC8xLjAvADw/eHBhY2tldCBiZWdpbj0n77u/JyBpZD0nVzVNME1wQ2VoaUh6cmVTek5UY3prYzlkJz8+DQo8eDp4bXBtZXRhIHhtbG5zOng9ImFkb2JlOm5zOm1ldGEvIj48cmRmOlJERiB4bWxuczpyZGY9Imh0dHA6Ly93d3cudzMub3JnLzE5OTkvMDIvMjItcmRmLXN5bnRheC1ucyMiPjxyZGY6RGVzY3JpcHRpb24gcmRmOmFib3V0PSJ1dWlkOmZhZjViZGQ1LWJhM2QtMTFkYS1hZDMxLWQzM2Q3NTE4MmYxYiIgeG1sbnM6ZGM9Imh0dHA6Ly9wdXJsLm9yZy9kYy9lbGVtZW50cy8xLjEvIi8+PHJkZjpEZXNjcmlwdGlvbiByZGY6YWJvdXQ9InV1aWQ6ZmFmNWJkZDUtYmEzZC0xMWRhLWFkMzEtZDMzZDc1MTgyZjFiIiB4bWxuczp4bXA9Imh0dHA6Ly9ucy5hZG9iZS5jb20veGFwLzEuMC8iPjx4bXA6Q3JlYXRlRGF0ZT4yMDIzLTAzLTIwVDE5OjQxOjMyLjYzMDwveG1wOkNyZWF0ZURhdGU+PC9yZGY6RGVzY3JpcHRpb24+PHJkZjpEZXNjcmlwdGlvbiByZGY6YWJvdXQ9InV1aWQ6ZmFmNWJkZDUtYmEzZC0xMWRhLWFkMzEtZDMzZDc1MTgyZjFiIiB4bWxuczpkYz0iaHR0cDovL3B1cmwub3JnL2RjL2VsZW1lbnRzLzEuMS8iPjxkYzpjcmVhdG9yPjxyZGY6U2VxIHhtbG5zOnJkZj0iaHR0cDovL3d3dy53My5vcmcvMTk5OS8wMi8yMi1yZGYtc3ludGF4LW5zIyI+PHJkZjpsaT7QktC70LDQtCDQptGL0L/Qu9C10L3QutC+0LI8L3JkZjpsaT48L3JkZjpTZXE+DQoJCQk8L2RjOmNyZWF0b3I+PC9yZGY6RGVzY3JpcHRpb24+PC9yZGY6UkRGPjwveDp4bXBtZXRhPg0KICAgICAgICAgICAgICAgICAgICAgICAgICAgICAgICAgICAgICAgICAgICAgICAgICAgICAgICAgICAgICAgICAgICAgICAgICAgICAgICAgICAgICAgICAgICAgICAgICAgIAogICAgICAgICAgICAgICAgICAgICAgICAgICAgICAgICAgICAgICAgICAgICAgICAgICAgICAgICAgICAgICAgICAgICAgICAgICAgICAgICAgICAgICAgICAgICAgICAgICAgCiAgICAgICAgICAgICAgICAgICAgICAgICAgICAgICAgICAgICAgICAgICAgICAgICAgICAgICAgICAgICAgICAgICAgICAgICAgICAgICAgICAgICAgICAgICAgICAgICAgICAKICAgICAgICAgICAgICAgICAgICAgICAgICAgICAgICAgICAgICAgICAgICAgICAgICAgICAgICAgICAgICAgICAgICAgICAgICAgICAgICAgICAgICAgICAgICAgICAgICAgIAogICAgICAgICAgICAgICAgICAgICAgICAgICAgICAgICAgICAgICAgICAgICAgICAgICAgICAgICAgICAgICAgICAgICAgICAgICAgICAgICAgICAgICAgICAgICAgICAgICAgCiAgICAgICAgICAgICAgICAgICAgICAgICAgICAgICAgICAgICAgICAgICAgICAgICAgICAgICAgICAgICAgICAgICAgICAgICAgICAgICAgICAgICAgICAgICAgICAgICAgICAKICAgICAgICAgICAgICAgICAgICAgICAgICAgICAgICAgICAgICAgICAgICAgICAgICAgICAgICAgICAgICAgICAgICAgICAgICAgICAgICAgICAgICAgICAgICAgICAgICAgIAogICAgICAgICAgICAgICAgICAgICAgICAgICAgICAgICAgICAgICAgICAgICAgICAgICAgICAgICAgICAgICAgICAgICAgICAgICAgICAgICAgICAgICAgICAgICAgICAgICAgCiAgICAgICAgICAgICAgICAgICAgICAgICAgICAgICAgICAgICAgICAgICAgICAgICAgICAgICAgICAgICAgICAgICAgICAgICAgICAgICAgICAgICAgICAgICAgICAgICAgICAKICAgICAgICAgICAgICAgICAgICAgICAgICAgICAgICAgICAgICAgICAgICAgICAgICAgICAgICAgICAgICAgICAgICAgICAgICAgICAgICAgICAgICAgICAgICAgICAgICAgIAogICAgICAgICAgICAgICAgICAgICAgICAgICAgICAgICAgICAgICAgICAgICAgICAgICAgICAgICAgICAgICAgICAgICAgICAgICAgICAgICAgICAgICAgICAgICAgICAgICAgCiAgICAgICAgICAgICAgICAgICAgICAgICAgICAgICAgICAgICAgICAgICAgICAgICAgICAgICAgICAgICAgICAgICAgICAgICAgICAgICAgICAgICAgICAgICAgICAgICAgICAKICAgICAgICAgICAgICAgICAgICAgICAgICAgICAgICAgICAgICAgICAgICAgICAgICAgICAgICAgICAgICAgICAgICAgICAgICAgICAgICAgICAgICAgICAgICAgICAgICAgIAogICAgICAgICAgICAgICAgICAgICAgICAgICAgICAgICAgICAgICAgICAgICAgICAgICAgICAgICAgICAgICAgICAgICAgICAgICAgICAgICAgICAgICAgICAgICAgICAgICAgCiAgICAgICAgICAgICAgICAgICAgICAgICAgICAgICAgICAgICAgICAgICAgICAgICAgICAgICAgICAgICAgICAgICAgICAgICAgICAgICAgICAgICAgICAgICAgICAgICAgICAKICAgICAgICAgICAgICAgICAgICAgICAgICAgICAgICAgICAgICAgICAgICAgICAgICAgICAgICAgICAgICAgICAgICAgICAgICAgICAgICAgICAgICAgICAgICAgICAgICAgIAogICAgICAgICAgICAgICAgICAgICAgICAgICAgICAgICAgICAgICAgICAgICAgICAgICAgICAgICAgICAgICAgICAgICAgICAgICAgICAgICAgICAgICAgICAgICAgICAgICAgCiAgICAgICAgICAgICAgICAgICAgICAgICAgICAgICAgICAgICAgICAgICAgICAgICAgICAgICAgICAgICAgICAgICAgICAgICAgICAgICAgICAgICAgICAgICAgICAgICAgICAKICAgICAgICAgICAgICAgICAgICAgICAgICAgICAgICAgICAgICAgICAgICAgICAgICAgICAgICAgICAgICAgICAgICAgICAgICAgICAgICAgICAgICAgICAgICAgICAgICAgIAogICAgICAgICAgICAgICAgICAgICAgICAgICAgICAgICAgICAgICAgICAgICAgICAgICAgICAgICAgICAgICAgICAgICAgICAgICAgICAgICAgICAgICAgICAgICAgICAgICAgCiAgICAgICAgICAgICAgICAgICAgICAgICAgICA8P3hwYWNrZXQgZW5kPSd3Jz8+/9sAQwAHBQUGBQQHBgUGCAcHCAoRCwoJCQoVDxAMERgVGhkYFRgXGx4nIRsdJR0XGCIuIiUoKSssKxogLzMvKjInKisq/9sAQwEHCAgKCQoUCwsUKhwYHCoqKioqKioqKioqKioqKioqKioqKioqKioqKioqKioqKioqKioqKioqKioqKioqKioq/8AAEQgB1gJ2AwEiAAIRAQMRAf/EAB8AAAEFAQEBAQEBAAAAAAAAAAABAgMEBQYHCAkKC//EALUQAAIBAwMCBAMFBQQEAAABfQECAwAEEQUSITFBBhNRYQcicRQygZGhCCNCscEVUtHwJDNicoIJChYXGBkaJSYnKCkqNDU2Nzg5OkNERUZHSElKU1RVVldYWVpjZGVmZ2hpanN0dXZ3eHl6g4SFhoeIiYqSk5SVlpeYmZqio6Slpqeoqaqys7S1tre4ubrCw8TFxsfIycrS09TV1tfY2drh4uPk5ebn6Onq8fLz9PX29/j5+v/EAB8BAAMBAQEBAQEBAQEAAAAAAAABAgMEBQYHCAkKC//EALURAAIBAgQEAwQHBQQEAAECdwABAgMRBAUhMQYSQVEHYXETIjKBCBRCkaGxwQkjM1LwFWJy0QoWJDThJfEXGBkaJicoKSo1Njc4OTpDREVGR0hJSlNUVVZXWFlaY2RlZmdoaWpzdHV2d3h5eoKDhIWGh4iJipKTlJWWl5iZmqKjpKWmp6ipqrKztLW2t7i5usLDxMXGx8jJytLT1NXW19jZ2uLj5OXm5+jp6vLz9PX29/j5+v/aAAwDAQACEQMRAD8A+kMD0owPSiigAwPSjA9KKKAEOB2pCVHXFUdb1OPRtFvNSm/1drC0rD1wM1474d8Na/8AFPT28Ra14l1DTreaRvslrZsVVFBxk8irjG6uyJTs7I9wBWlyK8u8D33ijQPEGreHvECX2q2tpGZrK/eI/vRgfJu6E/j61tad8UdEv/Cuoa46y2yaczJcQTYEisO2PU0nFp2BTTR2/FHHpXJRfEHS08Ex+J9USXTbKQZRLgfO3pgDrmsrQfjJoGt6xDp0kF5p0tycW7XkRRZfoaOV2uPmV7HoXHpSZWuK1v4n6ToPjS18OX0E4mudmJwBsXccDNbPirxRZeEfD82r6kGaGMgBE+85JwAKXK9A5kbvHpRxXK6R4/0nVPBR8TylrKwXduM5AIwcdq562+Nvh+e8hSez1C0s7h9kN9PblYnPbn0oUWw5kel8UZFRxuskaupBVhkEdxXN2/jixuPH0/hRIJhdwQiZpDjYRjOKQ7o6jIo4rlz44sR4+Xwp5E32toPP8zjZj0/SszxN8V9D8M6qdMMVzqF6gzJDZx7zGP8Aa9KfKxcyR3RxVcahZmGSUXMPlxEq77xhSOxPauc034g6LrPhW613T3eSG0RmnhIxIhAyQQa4CXR/Dmp+EbrxcNU1TT9CvnNzdaYHAWZ89PbJHSnysHJHtCSJKoaMhlYZBHQ07iuAtPiZo1p8OYvEcNncJYRsIFiwN4wcetUT8dfDIvoY5IL5LWUhftrQERAntmhQkLniemgZoxWFr/jLR/DOiDVNUulW3cDytnzNKT0Cgda53QfjH4f1vVotOmhu9NuLg4g+2RFFl9MGlysfMjv8UYrmLvxzZWfjq18LPBM13dQmVZBjYB7/AJUuqeObLS/GWneHJoJmudQUtHIoG1evX8qLMd0dNxRxXMaX43sdV8Zal4chgmS509Q0jtja2fSltPG9ld+OrvwtHBMLq1iErSnGwg46fnRysLo6bijivP8AX/jBoOh6tJp0UF5qU8P+uFlEXEX1Nbek+ONH1zwvca3pcpngt0ZpY8YdCoyVIPQ0+VpXFzJuxui+tDHK4uYtsJxI28YQ+/pUsckcsavEwdGGQynIIrxp9M8PeIfDd/4vh1XVNK0i8LPfWKOAsxXj8M4r0DwB4j03xN4XiudGtpba0hPkJHLjI2gUSjZXBTTdjqOKOKxfE/irS/COlG/1mfyos4UAZZz6AdzXM+H/AIv6DrmrxabLb3mm3E/+o+2RFBL9DSUW1cOZJ2PQOKOK43xb8TNF8JXsdhcLPeX8i7xa2qb3A9T6UzTfifo2r+HL7VNOhuppbEfv7Hy8TqfTbT5Xa4cyO14o4ryg/HnTRdi1Ph3WRcEbhF5HzEeuOtbknxTsINL0m9utNvoP7UnMEcUibXQ56sD2o5JApJnd8UuK47xd8R9J8H31hZ3ySzXF6wCJFglQTjJ9ua66KTzI1YdCM0mmldjum7D8UmK5nSvHVjq/i3U9AhgmSfTgDJI+NrfSqehfEvSPEPi6+0GwSYy2SsXnIHltg4ODT5WHMjssUcV5vqHxs0G01C4trOy1DUUtWK3E9pAXjjI6812Xh/xFp/ifR4tT0ibzraXgHGCD3BHalZpXEpJmpkZpciuI8f6b4q1mSw07w3c/YLGVz9uvI3CyInoorgL201L4ceN9Bt9F8SX2qxajN5c9pcy+ZxnlupxVRhdbkubR7vjNGKRT8tcxqHjux0rxpaeHb+3nhkvF3QXLAeU5/u59ajU0ujqOKOK5XTvHljq3jS88O2FtPNLZLme4QAxofTPrWtr+tweHtButUukaSK1Quyp94j2p2d7CurXNTijFc5a+MbO68D/8JOkEotfIM/lnG/A7UzT/AB1pV54JTxRcObKwZC5M/BGDjH1osw5kdNxUU9zb25T7RMkW87V3sBuPoK880341+HdQ1SG1kt76yiuG2wXVzAUjkPbB7VP44vtF1vXtP8Iail0lzeAXFtd25A8ll6HP4U+Vi50d4Lq3a4MCzIZgNxjDDcB64qXivJtJ1DQvBnxIXSLm9v8AWte1FUikvJiCIl52qfStjWPjBoei+IL7R7q1vHu7TGEhj3mUkZwoFHI76C51bU9BwKMVyXg34iaP42E6ad5sF1bn97bXC7XUeuPSszxB8YdB0LV5dNihvNSuID+/FlFvEX1NHLK9rD5la56DikxXNaV480bW/DFxrmmSme3t0ZpY8YdCByCD0NP8O+M7PxJ4R/4SC1hljt9rtskxu+XrSsx3R0WKMVy+hePdM1vwnJ4h+azsYi+8zkAjb1rmovjt4aku1WS3v4bJ32LfyQERE/Wmoti5kj03FBwK5Xxh8QNO8H6Ra6jcxS3cN04SL7Nht2RkGsCx+NmiXGoQWmp6fqOlG4YJFJdwFUYn3o5W1cOZI9J4rOfX9IRpFfUbdWikETgyD5XPRT7+1X1IZQy8g8g15VdfD7Vbi81OTZFtutbivFO//lkoGT9falGzG79D1UMp6HNGV9a8d8anUPh98QbDxXbz3E2j3jiG+gaRikef4sdB6/hUNxqFz8UfilDaaRdzR+H9FAeaWCUqs7nBxkdf/rVfs3a62M/aa8p7RlfWlyK8i8WatrXir4iJ4I8OahJplrbwiS9uoT84HoP0rK13RvEHwhitdc03xHe6rpv2hUvLW8OeD3HJo9n94e0Pcty0blNeLfGO8l1VPCYsr25tYdQnAL28hU7WA9Dz1ql4t8Dan8O/DsviPQvF+qNNaspaG5kLJICcY5PvTVPbzB1N9D2u41XT7S5W3ubyGGZozIsbuAxUdTj0FTWl3bX9slxZTJPDIMpJGwKsPY15m2k6n41k0XxMkMaLNoMkbKz4xLIvA+nPWu18F6RLoHhDTdMuAolt4Aj7TkZ71DSSLUrs3ttG2lHNFSUJijFLRQAm2ilooAKKKKACkNLRQBzvjyxl1LwLrNrbDMslpIEHqcdK5j4KapbXfw1srWORRNZl45oyRlDuPUV6M67uCMjvXnet/Bfw3q+qSX0L3mnSzNmYWc2xXP0q0048rM5KSfMjX0nx7Ya340v/AA7YW80rWCbpboEGPPHy+uf8K8N8cnS3+Jl/LYJcnQVu4f7X8k/uzJu5/rXvPh/wJpHhjRbjTtDjkthcAiS43bpWJHXce9U9L+GWiaX4UvtBAmnhvyzXE0pBkcnvmrjOMWyJxlJK5wPxsctZeEv7L+znT2uVMfnEiDOPl3Y7YpPE/hj4heJI9OGtzeF7eK3uUkglgnkRs9gCV5+leiQfDzSB4KXwvqBm1CwjzsNw2XT0wR6Vj6T8F/DmmalDdyz6hffZ33QQ3VwWSMjpxT9orWDkdzgPiHoUuu/FOWyUk3kWkCWFlY/6xASP1FR674gk+JOmaRpgLeXp1hJe6mAcYkRSoU/jz+NexP4KsZPHA8TtLN9qWDyBHkbNv+TVTSvhroukHXDZmZTrW4TEkfuwc8L+JzTVVaeRDovVLqed+HNbtvD/AOznFe3mnw6gpnZEt51BRmL8ZB7Csz4g2nipvhnBfa3rGl/YZTG8WnWlqF2A4ICt14Fet6f8OtGs/Ax8KTCW608kn983zZJznIrnG+A3hp7KS3lu9TlBwImkuM+SM/wjpRGpG92N05WsjvPDR3eF9MLck2sef++RXjGrt4iT9oTUj4QSykvvsi5F4SE27eele5abYrpumW1lEzOlvGsas/UgDHNYUHgext/Hs/itJZzeTw+S0ZYbAMY6dayhJJtmkotpI8t8Ot4gb9oCI+K0s01H7A3FmSU24OOtZ3g7/hMW8a+Jz4aGim9N0wuP7TZxJjJxtwDxXsbeCLA+PV8Vmaf7YsHk+XuGzH0655rN8T/CrQfE2pnU3a6sL5hh57OXYX+vrWvtE9DP2bOH0rwxrujaX41vtbn0oteWrGSDTpmYI+O4IGOK5Tw+ZvGPguz0KEuul6LaS3V8w48yXkomfbrXtmk/DfQ9F8PX2k2InC36Fbid5N0j5GM5NS+Hfh9pXhnwpc6Hp5lMN0G82ZyC7bhjOaPaJFOm2eN/82yf9vf/ALPXd+NRpo+ATG4EWz7FH5WMff4xj3zWf8RfC1p4Q+Cc2k6fJLNClwrAykFjluelW9F+DXhvULDTL+5kvniMUcpszOTEWwD0quZcqk31I5XflschfCTPw0/t3H2HYu7f93dxtz+ldT8dRbDRdE+ziP7f9vj+zbPvY9vbpXoOv+ENI8S6GNK1O1DW6AeXsO1o8dCp7Vzug/CDw/oerR6i8l5qFxAcwG8m3iL6Co9pHR9ivZytY4fxqddX43aKfDy2z6p/Zw2C7JCdDnOKglk8UP8AHDwz/wAJlHYJc4by/sRJXbg9c16xeeCbG88c2vimSadby1iMSRgjYR78e9Gp+CLHVfGWneI55p1udPUiNFI2N9fzo9ol9wOkzyeJ/FSfG7xMfBkdhJclF837aSF28dMd6n8Gtrj/ABq1s+Iltk1X+zzvFoSUzgYxnmvUtL8FWOleMNR8RW8s7XWoKFkRmGxceg/Ci18FWFp44u/FEcs5vLqIROhI2ADHQfhT9qg9m2cR8C/s39i619o2HUPt7/ad33se/tWH4U2HX/iX/Zw/4lwjfbt+7vw2cfrXc6/8IPD+u6tJqKSXmnXE3+uNnNsEn1Fbmk+B9H0TwzPoelwNBbXEbJK+7LuWGCSe55qXUWrGqb0PCPCfneMPCln4XhMi6fp6y3eoMBjccnama9K+AJ/4t2+On2yTH6V03hf4faV4S0K50zTTKyXOfNlkILtkY6+1W/B/hGy8F6K2mabJNLCZWl3TEE5P0+lOdRSTSCFOzTZwPxhKf8Jp4MN7/wAeP2w+Zu+7uyuM11fjGHwc82knxT5fmrcL9g2u6t5nbGw/z4rZ8S+F9M8V6W2n6zB5sJOVKnDIfUHsa5rw/wDCLQNB1aPUTJeX9xCf3BvJt4i+gqOZcpVpJnnNmfFR+NfiI+H/AOyTqIIC/wBqFgfK7bNoNdZ4I8LeJrL4lX2teIJtGV7iALPBp8zE57EqRXTeLPhpofi68S9uxPa30a7VurWTY+PQ+tWfCPw/0fwa00unCea6nAEtzcSF3cemat1E1oTGD6nFX4H/AA0vYDt9hPH4Gj463MNg3hq6n4ihvfMfA7DBruZvBNhP48h8VNLOLyGHyVjDDZj6Uzxn4D03xxHZx6tJOiWsnmKIiBu9j7UlUXMm+g3B2djwzxTaXer2+n+MtWDiXUdTjjs42P8Aq4AeOPfrX0ta/wDHrH/uD+Vc54j8CaZ4l07TrK5eaCHT5VkiWEgfd6A+3FdNEgjjCDoowM1M5qSS7DhDluz5zv8AW7vTPil4qstJVm1LVClrb4H3cnlvwFa3w50WHw18YtU03dlYNPHmuxzuY4LH869KsfhxpNj44ufFIaaW9nzhXI2JnuBirFp4GsLPxre+Jo5J2u7yPy3jYjYB7CtHVVrIz9k73Zymtw32t6Vdz/DPXdHs9PWN1uoltFJd8HPzY4/KrXwSuLOb4exJZQNC0UzpPubdufPLA+lLqHwT8O3moz3VvcajYLcsWngtbgrHJ+FdloPh/T/DWkRabpEHk20XRc5JPqT3NZykuTlRai+a5Q8Q+JNFsb620DV7l4JtVRo4cAgEHg/N2NeVa/4Ztfhf4y0LUfDt29w99ci3lt7siVipPVSRkfhXrHivwZpHjKwS11mBm8tt0UsbbXjPqDWF4f8AhDoGg6tHqTSXmo3UX+qe8m3iP6CnCUYq4Ti2Lr3h3x7f6xLc6F41TTbJwPLtTYRyFOOfmK5NYPxqFunhLTILh3n17zkFnJCAHaTuwA6CvW1HFcve+BbDUfGtv4kvpriae1TbBAxHlx+4HrSjPlkmxyi5Rscj8CzYjw7ex7WGsLcN/aHm/wCsLZ4z7V0/xQx/wrXWv+vc1PZ+BbDT/Glx4kspp4bi6TbPArDy5Pcj1rU17RYPEGh3WlXbOkN1HsdkPzD6UOS5+ZAovk5TwrTpPiGPhHtt4NGOhfYz8zM/nbP5Zqrrxuf+Ge/DIhx5Juh5u/7vU43e2a9wt/B9lbeCf+EYSaY2nkGHzCRvxUdh4G0mz8Fp4Ymja709VK4mOWOTnPHetParfzM/ZO1jy7xB4e+IPiXwnb2eoS+E4dOBjeGWOaRCuPu4JXFQ+PNWfwp8SfDl9f8A76a003BEZ3B3wQAPqa7Oz+B3hm1vI5JJ9QubaJt0dpNckxKR04ra1z4c6P4g8TafrV/5xk09QscCkeWwByMihVIpjdN20PH7fRLrTPiX4P1DVizapq8rXd1k/dyflUDtgV1/hfyz+0R4lEm0t9nG3d/wHpXd6x4JsNa8UaVrtzLOlxpefKRCAp+teWx+FbHxZ8cvE1nqD3EWyJXjlgkKMh4HBpxmpLfoLlcXt1L7DP7R9x/Y2BjTX+0GPpu2nGcd84q18CVg/svXvtYT+0DqD/ad2N2Pf9a7Twd8PdH8Fid9ME01zcf625uH3Ow9M1ma/wDB/QNd1eXUkkvNOuJ+ZzZzbBL9RUupF6DUGtThfDWz+3PiL/Z//IP8ptoT7m/HOKz/AANL8Q1+GIXQYNHbRtkvzXDN5uOd3TivZNM8DaRovhifQ9MgaG2uEZZHzl3JHJJ9af4f8H2Xhzwl/wAI/aSzSWu113yEF/m60Oog9mzw1hc/8M2L5Wdn24+ft/u7zn8K9J8TDRx8CpeIPsv9nr5XAxvwMY9810mheBdL0PwpJ4eAku7GTdvFxgk7jz0rmYvgZ4XjvFd5dQmtEfellJcExA/T0o9onuHI0ef+JVvW+C/gtZHKXBuUEbyDOOflP5Yq/wCPNL8VaXpeman411e01jSba5jdrS1gED+3zc5+nFep+L/AGm+MdJtdOvJZ7WG1cPH9mIUjAwBXO2nwQ0GK8im1HUNU1JIXDrDc3GUyPUU1UjoL2buejadPHdaZbzwgrHLGrqD1AI4qdlAWmwxrDCscY2oowoHYUrVznQlpY8t+NGvL/Y9v4UsIUutT1iRY0jIzsXI+b2rG+ElzJ4K8Taj4H1yOOK6dvPt51GBMMdM9+On4130PgDTo/HUniuee4ub5l2xrKwKRD/ZGKd4o8Aad4p1bT9TnmuLW90990U1uwBPPQ8dK2U4qHIY+zfPznC6bLH4f/aM1NdTYQrqdsPs7twrHjjP4VpfHfUbdPAQ0sOr3l/cRpDEDlm56gV13irwJo3jKzjg1qBmkh/1VxG22RD7GsTw98HPDfh/VI9RP2rULqE5ie8l3+X7getHPFtSDkdnE4b4qabcDR/A2mmZra43JF5qdY2woyPpWV4v8Kaj4Y1vRF8aeIdS13w/dThJxLO4VG7ZyTx3/AAr2nxR4IsPFl7plxfyzxtps3mxeUQAx9D+VWvFPhax8XaBLpGqBxDJg7kOGQjoQfWqVW1kT7J6tGnaRQQ2sMdoqpAiARqvQLjjFWsCs3QtIGh6Na6clxNcpbII1kmOWIHTJrTrnOhBRRRQMKKKKACiiigAooooAKKKKACkxS0UAJijFLRQA3bRtp1FADdtLilooATFAFLRQITFLRRQMQrRilooATFGOKWigCC4tYbuExXMMcyf3ZFDD8jUiRrGgVFCqBgADAFPooAb0qle6rY6dLBHfXUUD3EgjhV2wZGPYDvVt225J6AZNeXeE1Hjb4k6v4gvh51ppEn2TT0blUb+Jx78U0r3uQ5W0PT94JwO1G8Kfm4/GvJfh3dTSfF3xlHPcSPFG+VV3JVee3pXFfETxrfeJPG1p/Zcs0ekWN4tuskblRLJnnp1rRUnJ2I9skrn0mKXHtXK+KfHmk+C9Ptn1Qyyz3A2w28CbpJDjsKoeFPilpXinUjpn2a703UAu8W15HtLD1B71nyO1zTmSO4xSiuQ0D4g2GvXuswLDLajSJCk0kpG047ineDfHsHjQ3kmn6fcw2ds5jW6lxtmP+zRyvqCkmdbSV5bdfG63i1K9tLXw3ql59jkMcksAUrkVrWfxTsLz4e3fi1bC5S2tXKNAxG8kEfh3p8kkgUk3ozvcA0mK5K6+Imj6d4MtPEmomS3t7uNXihxukYkfdAHU1jaH8Z9F1XVYbC9sr/SnuDi3e8i2rL6YPalyuwc0e56LinAVyo8c2h+IX/CJfZpvtX2fz/OyNmPT1om8dWsPj6Lwo1rMbmWHzRNkbAPT1osw5kdVxQcdq4DXvizpekaxNpVhp99rF5bjM6WUW4RD3Na2g+PdK8R+GbjWdMMjJahjNC67ZEKjJBFHK9w5kdRilxXH6R8RtK1LwXJ4nuQ9jYxlgwmILcfSsC1+Omgz3ka3On6lZ2czbYb2aDEbnp+FPlYc0T0+kBrlfEnjyz8OXekQSwSXI1SURxPERhc9zntTtY8cWmj+MNJ8PTW00k+qZ8uRSNqY9aXKwujqetGK5WbxxaweP4fCjW0xuZYPOEwI2AenrWb4o+LGkeG9UbTI7W81S+QbpIbOPd5Y9zQosOZHeYoxXN+GPHOk+LNGl1HTZWRISROko2tEQMncO1cpd/HTQLe+dIbHUbmyifZJfRQ5iU/XuKfK3oHPE9P6CmGQA4Pf3qtpupW2radDfWMolt51DxuOhFeX/EG4ni+M/hCKOaRI3zuRXIDcnqKUYuWgOXU9a3gDngU3eCMjketeP/GvxhdRWv8AwjWhO/2uSMzXTxNgxxD3HTNdZ8KZnk+FekSzyPIxhYl3Ykn5j3q/ZtR5ifaJy5Udp5iY5ZfzpBIp6EH6GvnzwP4JXx9fa9d3+sajAIL5kQQTkDGa2/hLayaZ4+8WaULy5uYbMKkZnkLHqeap00uuxKqdz2kOD05FBcA4yM/WvI/gzqRi0vxFcahdOYoL5yWlcnaAPeuLHi/VPFHxk0bUd88OmSXXlWqByFdFzk475pKlJtrsDqpJH0NaarZX808VlcxTyW7mOZUYExt6Edqljs7eO4a4SCJZnGGkCAM31PWvM/GGPBPxG0bxFYDyrXVpvseoRrwrscbHPvya9TVtwBHQjNZuNtS4u+goGKXFLRSLDFJilooATFGKWigBMUm2nUUAFIRmlooATFIBTqKAExS4oooAMUmOaWigAooooAKKKKACiiigAooooAKKKKACiiigAooooAKKKKACiiigAooooAKKKKACiiigAooooAKKKKACiiigCveAm1mC9dhx+VebfBEr/wAI1qi/8tF1ObeO/WvTnGcg15fo0TeA/idf2VwjLpfiCQS2soX5Um7ofTOauPwtENe8meaXutX9h8RPFmlaJG7alrFyLaFlH3Bn5j+Vb/xB8L23hHwv4T0u2GWW+VpX7u5xkmvT9L+HGiab4yu/E0KyyX9yST5j5WMnrtHbpVvxV4J0/wAX/Yv7TeZfscwmj8p9uSPWtnVjdWMFRdnc881vbH+0VoT6ngWzWWLYufl34PT3ziu01eXwh/wnumpqPlnxBsP2UAMWC9844/Or/inwNo/jDT4rbWbcuYDmGZG2yRn1DCqPhX4Y6B4RvHvbCOae9Zdv2i6lMjgegJ6VlzJo05WmeEXmneJL258atoU6/YI7ktfW6cSSru7cf1r3T4d6rot38ObObRAsFrBBtkjJ5jYD5t3v71f0DwNpvh+/1S7tDNI+qSeZOsrblz7CsaH4QaHb22rW1tcX0NrqrbpoEmwqnOfl449KuU1JWJjTcXc5X4TA3Gi+L9Qx+7uLmXy27HANYGi8fsz69/18vn/vpa9s0XwnpugeHRoumQmG1Csp+bLNnqSfWsm2+Gej2vgi78LRyXP2G7cvIxk+fJIPBx7UnUTdx+zaR4mbLWrT/hBLrxLqMV1oskieRGI9ohHHDetegfHdrWTwlpiQ7WvHvI/soT7x+ld1P4G0a68IweHL23NzYQRiNPMPzDA4IPr71iaD8HPDOhatHqKR3N5PCcw/a5jIIvoDTdSLsxezaujD8SeGvFOm+N9P8Y+GLKLU5hZLb3NpJKEY8dQTj1rA0TUdZ1L4+2dx4i0kaXdfY2HkCUP8uOuRXu4Sufl8E6bL42i8UM0326OLylXd8mPpUxqLqU6XY850vUtd8W+LNeh8L3WneHbWxm2TTC2DzTkdS2e1Uvhejx6L46jkuVumEsmZkUASHYeQBXca18HPDGta5JqksdzbzTHM6W85jWX6gVf0D4baN4aj1OHSvPjg1IESRF8qvGPl9KrnjbQXJK58+NYeIP8AhVVteTagj6ALwb7QR4K/NyS2Oley/EebSv8AhSsx3QmB7aMW+0jlsDG2uo0jwLpOkeFX8PLE11YSbt6XB3E7utc5Z/A3wnaaily0d3cRRtvjtZrhmiQ/7tOVSLdyY05LQ4bXFuU0X4brehvOEqbt3X2rpPG+P+F5eCiOnzV2Hi/4eaV4zhs49RkuIBZnMX2aTZiuZb4B+HnlSV9T1hpE+67XZLL9D2pKcWinCVylqX/JyVlt/wCfA/yrlfBp8Xf8Jt4kTw1No8V6bpjMupK5kK54247V6Z4c+EWi+GvEEesW13qFxdRqVU3M+8YP1qx4n+FPh3xTqX9o3UU1re4w09pIY2Ye+OtPnitA5JbnnUfhjxFpOjeOdQvL3TZ7q8tsywaZIx8t+/ykcZFVvBln441X4ax2uiXXhpdHeFkkE6v5i+u4jgGvYPDHgXRPCVhNa6Ta8XH+vkmbe8v+8T1rnLz4H+FLu/kuES8to5W3SW0FwViY/Sp9orWD2buafws0W68PeA7XT7y7trtkdykttJvjKk8AGuA+MusR6D8SfDeqSqzi2hZwq9ScnH617NpWk2ei6ZDp+mwLb2sC7Y40HAFc/wCJvh1o/i3WrHUtXEzyWP8Aq41fCNznkd6UJKM7sqcW42R51YeG7lPhr4k8V66pOq6vbvJhusUfZRXXfDW7isfgrp1zcOqRx2rszMcDq1djq+h22saFPpNxuS2niMTCM4IXHauavPhVod/4T0/w7cvdmxsG3RhZcM3Xhj360+dNWYuRp3RzvwEhdvDOp3zKQt3fO6H1HrVX4cY/4W545/3v6mvVdI0ay0LS4dP0uBYLaFdqIvasjRvA2naH4h1XWbRpjc6oczB3yo+go9om5PuHs3p5Hz54cur/AFlr7wXo4dJNT1FpLqYdEhB5rt/Fmk2ug/E/wJptigSG3XaoH1616L4V+HOieENQvL7TUke4u2y8kzbioznA9BU+teCdN13xLput3jTLdaccwhHwp+oq3UjzaEKk+XU5L47kf8Ijpar/AK1tThEY75ya9LsM/YYA33vLXP5V5rrsT+PPiZp2m2yOdL8PS+feSlfleb+FB64xzXqCjbjAwKxk/dSNo/Ex9FFFQWFFFFABRRRQAUUUUAFFFFABRRRQAUUUUAFFFFABRRRQAUUUUAFFFFABRRRQAUUUUAFFFFABRRRQAUUUUAFFFFABRRRQAUUUUAFFFFABRRRQAUUUUAFFFFACEZqJ7aOXb5qK+05XcucH1FTUUANVcHrTqKKACiiigAooooAKKKKACiiigAooooAKKKKACiiigAooooAKKKKACiiigAooooAKKKKACiiigAppXmnCigCGO2jhLGJFQu25tq43H1NS0tFAB3ooooAKKKKACiiigAooooAKKKKACiiigAooooAKKKKACiiigAooooAKKKKACiiigAooooAKKKKACiiigAooooAKKKKACiiigAooooAKKKKACiiigAooooAKKKKACiiigAooooAKKKKACiiigAooooAKKKKACiiigAooooAKKKKACiiigAooooAKKKKACiiigAooooAKKKKACiiigAooooAKKKKACiiigAooooAKKKKACiiigAooooAKKKKACiiigAooooAKKKKACiiigAooooAKKKKACiiigAooooAKKKKACiiigAooooAKKKKACiiigAooooAKKKKACiiigAooooAKKKKACiiigAooooAKKKKACiiigAooooAKKKKACiiigAooooAKKKKACiiigAooooAKKKKACiiigAooooAKKKKACiiigAooooAKKKKACiiigAooooAKKKKACiiigAooooAKKKKACiiigAooooAKKKKACiiigAooooAKKKKACiiigAooooAKKKKACiiigAooooAKKKKACiiigAooooAKKKKACiiigAooooAKKKKACiiigAooooAKKKKACiiigAooooAKKKKACiiigAooooAKKKKACiiigAooooAKKKKACiiigAooooAKKKKACiiigAooooAKKKKACiiigAooooAKKKKACiiigAooooAKKKKACiiigAooooAKKKKACiikoAWimsarzXtvbj99Kq+2eaiU4x1YFqisttXjK5ggnl/3Ux/OkGqXHbT5vxYCsfrVLuOzNWiso6pP/Fp8wHsQacur24wJxJDn/nohFNYmk3uFmadFQRXEUq7opFcexqUHNbqSewh1FIKWmAUUUUAFFFFABRRRQAUUUUAFFFFABRRRQAUUUUAFFFFABRRRQAUUUUAFFFFABRRRQAUUUUAFFNY4qMtjknAoAmorPm1W0hbDShm/upyf0qB9bGf3VrO49cY/nVKEmZOtBdTXorGGszf8+Ev/AH0KVdaO797ZzoPUAH+VP2cifrFPubFFZ0Wr2kpx5uxvR/lq6kisuVYEfWpaa3NVOMtmSUUmaKRQtFGaKACiiigAooooAKKKKACiiigAooooAKKKKACiiigAooooAKKKKACiiigAooooAKKKKACiiigAooooAKM0U1mwaTAC2KqXOoRQHYA0krdI0GSf8KguLyS5lMFkenDy9l9h7063tY7dfl5Y/eY9TXBVxEm+WH3lJERiurs/6RL5Kf8APOM8/iakisoID+7jUH1PJP41YAxTsVzJdXqUMAwOKMU7tRVEMTbSFQRggEe9OoosIpyadCxLIDC/96M4NIst7Zf63/SYh/Eow4/DvV2m4zSScXeLHcdb3UV0m6F93qO4/CrCnisya0/e+dbN5U2Oo6N7GprW+85jFKNky9V9fcV2UsRd8s9wfcv0UgOaWuwQUUUUAFFFFABRRRQAUUUUAFFFFABRRRQAUUUUAFFFFABRRRQAUUUUAFFFIaADNIzhRk8VFLOsUbPIwCjqTWNPcS6j1DR24PA7v9farjFyMalVQ06lq41bMhisk81x1YnCj8apvFJcc3czSf7AOFH+NSJGqKFUAAdgKfXQoKJwylOesmRpGsYwiKo9hTgCafjikHFWRypCgYoxRmjPFAxrRK4w6qw9xmoRbvDzaStCfTqp/CrFFKyFtsOh1VosJfps5wJE5U/4VpK4dQVOQehFZLAMpDDIPXNRRyS2D7oPnhz80fp7ispU+x006zi7SN9RTqrwXMdzEJImypqcVz6nammroWiiigYUUUUAFFFFABRRRQAUUUUAFFFFABRRRQAUUUUAFFFFABRRRQAUUUUAFFFFABRRRQAUUUUANPArMvJ5J5haW5IP/LRx/CPT61av7r7NblhyxO1R6mq9nB5MOG5kY7nb1NcGJqNv2cfmUkSwwRwwiOMYUfrT8cUClrmtZWEYeu+KLbQLi0hurW8me8k8uL7PDvBbBOPyBqxpOvWesGZLYyJPbkCaCZCjxk8jINc948uY47zw9GbsWkn9pq/mYBKgRvzggjuPzrmlgF5qHiiG81Ka5Ewh+z6rCTEfM5CxjbgHB9PXmumME43ZVz1nNKa8msNWlSCztdRmnSb7f5OtkSNhfkOwg54Q/LyO9WI54bixnsdZv5WSC7naxZ7lkdoAvykkEFhuyAT6UvZEnqGaM14tZT+Y2ifYrtpy2lTtOJbyQDcO5IzyKXTtW/sqTw/fpK9y0ekyyzRS3cnzuHGOuct1xmj2QHtGaK8dGr3Udrq97ZzXFtDNqMQmMwklNvEyA/dBBAyecV6B4Liki0XDaq2qRmRmjmMZUBT/AAjJJIHrmplT5VcDoiM1WurbzlDodkqcow7VZxRzWLStYEMsbv7QhVvllQ4dfT3q6KyLlWtplvIv4eJR/eX/AOtWpFIsiB16MMiu3D1XNcr3QMkooorrEFFFFABRRRQAUUUUAFFFFABRRRQAUUUUAFFFFABRRRQAUUUUAFRyNtBJOBTy1ZGq3DSSLaRHG7mQjsPSqjHmdjOpUVONytPOb+bceIEPyj+8fWpQAaaqhQAOAKdXXaysecpNu7HAUuKQHFGaAA9KKCaKYmFFFJQIWikpaAEpCKUUGgZArvYTedFzET+8T+tbkUqyxh0OVPINZLdKNNn+zXBtX+4/zR57e1ZVIpq5tRqcrs9jb7UtNB4p1cx6AUUUUAFFFFABRRRQAUUUUAFFFFABRRRQAUUUUAFFFFABRRRQAUUUUAFFFFABRRRQAUHpRUU0nlRO5OAqkmpcrK4Gc3+k6oe8duMD/eNWxVTTEIsw7felJkb8auV5K973n1KkFJmiuX8YX+qafaS3Ol3qweRbSSshhDglRxyferjHmdiTpHgilIMiI+Om5QaPIjC7RGm3OQNoxXBXvizVbKC1nW9guCotPPhSD/nqwDbjn5TzwB6VVufF+tx3+o2yzyZg1eO0jkFmDGsbEZBOevNbeylsM9GMER3fInzfe+Uc/WozZWzTeYbeIvtC7igJx6V53e+Ltct72+tUuZCYdVhtEmFkCgjbGcnPXmrsXjC6t73XLPUr50khumt7KX7IAmQgYAt3PWjkkuoHcRWNtCCIoIk3Ek7UA61FdNYWUXm3pt4I143ybVA/GuHtPFniC/srW2sTC+oNYpds8mxEcsemCRxx1FdrLDBqGilNahgeOSEeehwyDI5wT/Op5ZJ6sBDqWliON/tdqEuPuNvXEn09atrJFFIkW5FZhlEzgkD0FeceD4Y7HX00HVY99vArS6I0sYAeLv8A8CX+VaVxp/2T4v6Zcfa7qbz7Sf8AdzSZSPGPujtTcQO8zRmmI6tkKQSODg9KfWAhrKGUg8gjGKr6ZIY2ltG/5Yn5T6qelWapynyNSt5hwH/dt/SiMuSakijWFLTR0pwr1yQooooAKKKKACiiigAooooAKKKKACiiigAooooAKKKKACkNLSHpQBDO4ijZ24CjJrCtt0ge4c/NMd30HatDW5CLQRKeZmCfh3qqihQFHQDArppLS5wYmXNOw48VVi1OxnuHghvbeSWMEuiyglceo7VaNeJXWsjw3498a3jad59kZraO7ljYBoIz1bbjkevIpyk0RTgpI9pguYbmPzLaWOZMkbo2DD8xUua8z1DxKug3txYeEba1tLC3006puEe5Zyxzgc8D6Vn6x8Stdiu5GslEUJ0YX6Ri18wo/uc/dpe0L9iz1zNJurzS58Za5p8vg+a4ukng1mMvcxRWYLKAgY7cHPepvEfxEktNQ8Pz6BOt1p1+0vnKsG6Q7B0AOCDT9oJUWz0bNGfavMtM8favdy6eswhxq2n3F3Fsi/49mjzgH1HHOaqeFvH/AIg1vVtCtriVI0vrGWeZjaBQWXONpz0pe0QexZ6xmjNeY+FfHOseIZIdPa/tLfUjO7YntCqTRK2CEIPJxVO18e+I5pbAPdW2LjXZNPbFsOI16Ec9aPaIaos9az7UZryDU/iH4js9R1K3iubdvsurx2a5thxG3c89ak8T/ELxFo+uXdgskMckd5bxRKtuHUxSHBZmzw3tRzoXsZHrQOahukJj3x/fjO5fqKkjJKjJyccnGKca0tcwZqWk4uLaOVejAGrFY+iSFVntyf8AVSZX6HmtgdK5JKzsenSlzwTCiiipNAooooAKKKKACiiigAooooAKKKKACiiigAooooAKKKKACiiigAooooAKKKKAENUNXfZps3qw2j8eP61oVm6x/wAeqj1mQf8AjwrDEaUpDW5JEAqKo6AAU/IrirL4g/adebTH08eYLqS2AinDPlBncV7A+tJP8QTZRX7XmlMJbO3S4MSTqxKs23B7AiuP2TsN7nbZ5rEv/Cmmanc3M9+s0xuE2OhmYKFxjAANYd38QJ7E3sV1orw3NqYWWNp1KyRyNtDBh6elXY/F1xLf6laxaXvNi0S7lmGG3jOTnoB3qlCS2ETr4I0DyQkliJvkRCZHYlghyueeSOxqVvB2hsJgbP8A184uX/eN80g6N1rJXx8r22nzfY40S6v5LGVnnAWJkBOc45HFRDx5eyaLJqdtpEclvHdNblhdDBIfYCCB361VqgG1L4N0KVZVkssiadbh/wB63zSDo3WkHgzQftEsz2AZ5pDK5aRjliMFuvXHeoIvFU0fiSLSdTtILPzLZp/Ne5GOGC4AIGeoq1oOvSa1PqcUlqsH2G6NtkSbt+ADnpx1pPnW4CS+DtAmSzWbTY2FkNsGScoPTOentV/UdHstW0/7FfRb7fjMauVzj6YrAufGFzZX9zaXOlgSRW0twgWcH5U6buPlzUGm+Pjqc0Edrp6TGTTTfFYbhWK4IGzHr81LlnLUDcvvC2kajPZTXdr5ktj/AMez+YwMf5Grkmm2suoQ3skKm5hQpHIeqg9R+lcpJ8QWjlMDacnnJeR20mbkbF3jIO6pIviAjQsJbLFy1zLBDFGzSCTy+pyoOKfLOwHRaZpEOmXd/cRH576fzpB74A/pWlnNcWfHpD24m077IJ7GS723cvlMpRsbNpGeT0pLfx5PN9kLaWqrc6e16D5+cY/h6c1Ps5PUDtciqepY+zB+8bBv1rhrvxLe6s2nyxifTxPpkt5iKYEMuB8pBH3uRgjpWzYanqGoeHLK6FkosprPzHkebdKG/hGMc5FTUptQuNHaRtuUY70+uPTxyY0C/wDCM+IjgYyNPYg0f8J2c/8AIr+I/wDwXtXpR2RJ2FFciPHbf9Ct4i/8F5o/4Tpv+hX8Rf8AgA1UB11Fcj/wnTf9Cv4i/wDAA/40f8J0/wD0K3iH/wAAD/jQB11Fcl/wnL/9Cv4h/wDAE/40f8Jw5/5lfxB/4Bf/AF6AOtork/8AhNpf+hX8Qf8AgF/9ej/hNpf+hV8Qf+Af/wBegDrKK5P/AITeX/oVtf8A/AT/AOvR/wAJrN/0K2vf+An/ANegDrKK5T/hNZv+hW17/wABB/jR/wAJpP8A9Ctr3/gKP8aAOrorlP8AhM5z/wAytr3/AICj/GgeMrj/AKFbXf8AwGH/AMVQB1dFcr/wmNz/ANCtrn/gOv8A8VR/wmNz/wBCtrn/AIDr/wDFUAdVSEjFct/wmN1/0Kuuf9+F/wDiq4H4m/FDXPC9vYappmlXtsPO8qS1vogFnB9MHIIoA9M1N92pW0fZQzn+VAPWuZ8KeKLjxdaW+p3mjXekuYiPLuVxuz3X1FbGs6rbaFo11qd8SILWMyPjqcdhXXHSJ5s03UZebkc1hx+DtAiuL24XTYzJfrsuizMfNH+0CazrLxyb+6lso9O23yWqXixPNhWiYZznHWs3/hZk3/CDnxO+hk2vmiJY1uRuJ3bfT1qXKLKUJrY6JPBnh+OzitU0yIQwqURSzHCn+Hr09qW88HaBqFzJcXWmxvLJD9nYhiMx/wB3APSsC7+JYsbPVTeaLLBe6dHHM1uZ1IeN+jBhx3oi+Jgd9YA0k/8AEqs1unxOPnDDOOlK8SuWo+pvz+DtBuI7GObT1YaehS1+dh5SnggYNKPCOgK9iy6ZCpsCTbbcjyyevfvWLpfxF/tPUVtTo8q50saj+7kDkg9FAx1pIviPBLa6yw02QSaZardGMyAb1IzjpwRTvEOWotjoIPDOjQNK0OnxIZo2ibGeFbqB6A+1V7TwX4esZbaW002ON7WNooWV2+RD1A596xNH+JC6xfvbW+mj93pn9oMwuAeMcJ061HpHxQj1W80uBdIkU39nJdfJKGKKueMY5JxU3iHLU7m/F4K8OwJbrFpcafZpTNEQzZRj1IOe9QP8PfDbbTFp3kyR3H2lHjkYFJM5LDnrWToPxNj13XNO0+PThF9uWRgTcAvFsOCGXHB9qufEbStSvfDMl9oN/cWd/Y4lVI5SqTKDyhp6bgufms2X5fAvhyeSaSbSkdpphPISzfNIOjdetLceCPDty8r3GlxyPNKs0jMzZZ1+6evasbwlqT+L9Bk17Srs2+oSR+SIZnZ47eQddyZ61F8M73Wbm98SW/iDUTf3Frf+WHUbUAx0VewoVmxPms9Tu0AVQBwAMCnVyPibx0vhvXYtNk08z+ZZyXYkEoXhO2PWtjwvrn/CSeGrTVhbG2W6TesRbcQPrV8y6GcoNRuatgdmtOvaSIH8j/8AXrcHWsK2/wCQ1B/1zb+lbgPNYVfiOnDfAOopO9LWZ1BRRRQAUUUUAFFFFABRRRQAUUUUAFFFFABRRRQAUUUUAFFFFABRRRQAUUUUAFZmtZFiXH8Do35MK0jVa/i82ymQdWQ1hXTdKSQ1ucZD8PLYXzXM+ozyB7p7sBUVCHYY+8OcY7Vj+JfBEmneFb37BcX1/ctZi0jjWNSSN4YHgdR616JaSedaROO68/WpiB3rijUdkxs4+58Exa1psjXd7cLc3SQiSUxqGVUO4JjoOetOufAS3V1eTnVbmNrqSGQBEUBDGMDjuD3BrrhgdK4n4k+N7/wXorXen6PPfHHM3HlQ84+bnNVGUpOyEWE8BRRtbbdTnKW9+99skjRgzsu0jp05NKPAoXw7PpKapMsct2brzBEuVJbdtA6YzXR2Ny11pttcyYBlhWRsdASAf61MkqOpMTq+Ou05xQ5TWgHMa14HXXL57i51OVRJZ/ZHRYUOVJBJBPIORWj4f8NxeH1vFguJJlupvNIkA+T5QuPfhRVW68feGrJrpbrVYo2tJVhnyD8jt0B46mrd14r0ayvls7nUIo7hsARnrkjIB9CR2p3lYCnqfg5dU1F7yfUJxJ5EkEe1FG0OMHP972zWenw5hVI0GqXCqmnHTz5caIWUkHdkd8qK1bfxtoVzfy2kF9vniALoI2ygPTPHFMt/H3hu7mtYrbVY5HvJGjgAU/vGX7wHHahOewBpng62sJ7qWed777UsYdJ41KgoMBgAMZqgvw9jjhQw6tdW91FdvcwXMKqpjL/eXGMFfY1ej8f+GpZI0j1WJmluDbINp+aQdV6davJ4n0eTVU05NQha7kZkWIN95l6gHpkelF5oDPu/Bou79LqXUpndLJ7Q741bduOS+SOvFVrfwCkDWrHVJ5Da2LWSbol+638X1rrx70tT7SSEcfb+AVg+yf8AE1nf7Jp72MeYl+638X14FWYdBl0fS7S3TU7iWG1t/s4iKgLJzwTjuK6aqV/8728I6ySAn6DmonNyjYpGnCMRKPQVJimpTxXqrRWJDFGKKKYCYoxS0UAJijFLRQAmKMUtFABikApaKADAooooATFJtp1FACbaMUtFACYzWbe6BpmoX1ve39nFcT22fJaVd2zPcA8Z9606Q9OaAMLUF2azBgYBiYdKrappltrOlXOn3yeZb3MZjdfY1oaz8jW83ZXwx9jxUQ611Q1ijzp+7UZzmmeC7TTbue7+0zTXUtqtos0gGY4wMAACuZ8VeDJ9J+FDaBoaXWpOLlZFAQbseYGPSvS8CjFHIh+0e5xVz8PrPWdNv2vbq6S61WGKOWQqoaJUHCAU2L4aWkY1TGpXP/EytFtJPkT5VUYyPeu3xRijkQvaSOCt/hjHbXYddZunjbTv7OcFFVhGBwQR3zU0PwysbaC+ij1K8P22yWzkLBThV4B6da7Y8CuD1vxpq3hvxza6frMVrHo98pFtdojE+Z2RuetJpIpSnJlrS/h1aaTfNdW2o3AZtO/s8jy0xt/vdOtQ6P8ADK00S502ez1O6D6dbyQREovIc5JPvVnUdZ8V2NnYQW2n215qN/OVVwrLDbx4zlz1zirPgnxRceJrC9+3W8UF3YXTWs3kPujdl7qfSklEpuaVyho/w1sNG1uy1O3vrh57XzC29V/es5ySxFdHf6XNe3lrIuoSQQQPve3WNWWU++a0wKMVpymXM27nLaJ4Jg0DxNf6tp+oTpFfvvms9iiLd6j0NXtE8NW+hX2qXVtNJI2p3H2iRXxhDjoK28UUcthSm2rHKeIfAtr4j1yHU7m9nhkhtXtlRFUrtfqee9avhzQ4/Dfh+10m3nknitl2o8gAYj8K1qKOVIHJuNmR2o3a0nfbEx+mSP8ACtxetY2lDzL66l6hcRj8OTWytYVfiOvDq0LjqKKKyOgKKKKACiiigAooooAKKKKACiiigAooooAKKKKACiiigAooooAKKKKACiiigApDyppaKAMey/0eae1PRW3p9DV3qKq6jGYZY7tBkpw4HdTViNgygryD0NeO48knAodiuW+Ivh698TeBr/SdM2faLgKF8xsDrnrXVZoJ4qouzuIoW1h/xI4bC5GR9nWGQKevy4PNZnhfwVo3g2G4j0OCSJblw8m+Uvkj69KzvEXxK0/QNWuLAaffX7WUSzXslrHuW2Q9C3+FdXZXkOo6fBe2rb4LiNZI29VIyDWj5krsDx/xB8NfEWp3uvywQQlL7Ube6twZwBtTqTx1rqtG8MazpHjvV7t7W0vtM1WaO58yaT95buq4wBg5rvsjFRC6g8zZ50e/ONu8Z/Kq9rK1gOO0fw5qlj4+8S6rNDH9k1GGNYCJOcqD1HbrXH+H/hx4j07VfDtzdQQldOvLmaXEw4SQ/Lj3r2ITR5YB1yv3vmHH1pPtMG4jzUyBkjcOnrQqkl0A8asPhr4kg1CxuJIo8Q63JfOnngqI26YGOtaUXgbxQ3jew1e5i09YbXVJbjET7cxMuB8oHX1r1RZomfYsiFsZ2hhmn0OrLqgMrQZNaltZj4hgtYZxM4jFsSVMeflJz3x1rWpKKx3dxCHpVW3H2jVZJP4YF2D6nrUl3OILdm6seFHqT0qSwg+z2qo3Ln5nPqTVU4c9RLtqVsi6KWkBpa9MkKKKKYBRRRQAUUUUAFFFFABRRRQAUUUUAFFFFABRRRQAUh6UtBoApajB9pspIx1K8exrLtpfNgUn7wGGHuOtbrisS4i+x6gwH+rn+YezelbUpdGcWIhrzktLTQadXQc4UUUUDEPSuL8WeHLzxlY32n6hZGGCFd9hKk4z5o6MeOK7SjFS1ccZcrPMdR0z4jaj4HsdIZLaK5Vwl7NFebGniA4AbHyk966vwVptzo+grYXGjWukrE2EjtrgzB/VmJAOTXR4pMYqeRJ3KlUbVgNKKDQKsyQoooopjExUc0qxRM7dAM1ITWdqKX90pi0kQmePDkTZ2HH8Jx0qb2E9dEbekweRYpu++/zt9TWhXLWPjCKG4jsvENq+kXjHannHMUp/2JOh+nWunWRXAKkEHoQa5G7u56kY8sUh1FFFIoKKKKACiiigAoopM0ALRSFqpXeq2tkP38oDHog5Y/hSbsBdyBRketc/Lrl1NxaWojXs87Y/QVWa41CbmS/K57RRgfqalyRLkkdMW54pVbJ5rlPInb71/dn/ALbEUoiuE+5f3Y/7a5qefyFznWZFGRXLLdalCcpeCX0WWMc/iKtxa/NF/wAftm2O8kJ3Afh1qlJMamjfoqra39veJut5VkHfB5FWQc1a1KFooooAKKKKACiiigAooooAilUMCCM5GKy4WNjcfZZT8jcwt/Stggd6rXdrHdQmNx7gjqD61zYij7RXjuhpiLzQfu1ThuHt5RbXhw/8D9n/APr1cGa4E7hY8d8RW+p6D4q8Xqmi32oDxFaRx2UlrEHQOF2lXOflx1ruNM8PanD8N7DRYNSk02/htI4zdRoHMbADPB4PpXV4FGBW7qtpAYemW194f8NMuqX9xrdzArO0wiVZJe4UKOM9q861mxubvxp4YvtO064g857iZyYWHlllOzzMcA59a9gxS8dqI1OV3A8Ms9J1dG00alZXziCK7/toKHBmBPyqCPvE9sVmQL4hHia71C88PSPay6bGj2SpLuEPmDKh/wDnoFwTX0N1pMCr9sr7CPFmuNR8P/EDVdS8PaXPcQfYbeO1hlglPmngFQ3YgdzXqGj+IJNT1G4sptLvbOS2jRnkmQCNiwyQrZ5xWziiolUUugBSMdqlmOAO5pGdUUliAB3NVArak2ACtqDye8n/ANasN3yx3KSKt1pcfiGFxdvLHbg/uWico4bs4I/Ss4ajrHhYhNcDanpnRb+BP3sQ/wCmqDqP9pfyrrlVUQKowAMAelNIGORxXpUaSpxsJsisL+21GzS5sZ454ZBlXjbINWx71yt54XltLqTUPC040+8Y7nhIzBOf9pex9xUul+K1kvF07XIDpmo9BHIfkl90foR7da2EdNRTQwNOoAKKKKACiiigAooooAKKKKACiiigAooooAKKKM0AFBpMj1rndV8UpBef2bo8J1HUiP8AVRn5Yvd26D6daALfiS+ew0O4uIr62spVU7JblNyA/wC6CCfwrxnwf4n+I3jP4iTaRq81vaadp6+bO0Vps3g/cxuyRnrXqun+GJJb6PVPEc4v79eY0x+5tz/sL6+55rat9OtbW7ubqGFUnuiDK4HLYGBTTsKSUlZmbC7kmOYYlQ4YevvVirF/ZGdRJAdky9D6+xqhFNuYxyApIv3lNdUZKSPNlF03Zk9FIDS1ZIUUUUAFFFIaQAaBSUooELSGkqKWcRjH3nP3VHUmmK4XEuxQE+aRuFX1NaOm2QtbfDHdIxy7epqGwsWjb7Rc8zMOB2UegrTQVz1J30R10KTT5pEF5Y2uoWj297BHPC4+ZJFBBrmj4c1TQmMvhW+Bg6/2desXj/4A/LL+o9q66kwKxOw5zTvGNrNdrY6tDJpGoMcCC6wBIf8AYfo38/aujByM1T1PS7LVrRrXUbWO5hccpIuRXOnRdc8PfN4dvDe2Y66fetkqPSOTqPocigDr6K53S/F1le3P2K9Emnagv3rW6G0n/dPRh9K6ANnmgB1FGaQ0ALUE0yQRtJK4RFGSzHAFJc3KW0DSzOFReSTXNTzy6rKJLgFLcHMcXr7n/CplKxMpWRZu9WuL75bAmCDvMw+Zv90f1NVoreOI7lBLnq7HLH8TUoHFLisdzFu4m2jbS0UCCijFFAxCopo+9T6MCgRA9spfzY2aGUdJIzg//Xq9Z61JAyw6ljBOFnUcH6jtUGKayqVIYZB6jFO7Q02jp0bcoI59KdXL2V82kssbszWZ4BPJiP8AhXSI4dAynIPOR3rZO5tF3JKKSlplBRRRQAUUUUAFIRmlooAr3NrHcxlJUDD9RVBvtOn/AOsDXEA/iUZZfqO9a9NIrmq0I1Neo0ylDcRXChoXDj2NS5qKfTYZX8xN0Uv9+M4P4+tVzHqMH3TFcqP73ytXHKnUhuh7l3OaKpC9kX/X2cyf7oDfypP7Tt88iUfWM1lzx6hyl6kzVP8AtOE/cWVz6CM0C7uZeLezk+shCijnT21DlZcJqvPeRQkKTukPRF5Jpos7yf8A4+bgRoeqRDn8zVq2sYLX/VIAe7Hkn8a2jRqT6WDRFSOznvGD3mEjHSFT1+prTRAqBQAAOwpyjFLXdToxprQQhHFR1LTdvrWohmMniqmqaPZaxZtbajbRzxnpuHKn1B6g1fC4paYHGeVrvhHBh83XNKX/AJZnm5gHt/fH6/Wui0jXdP1uzFzptwsydGA+8h7hl6g+xrQI3DBrnNZ8Jw3V5/aOkztpmqgcXMPR/Z16MPrQB0YOaWuTtPFc+m3KWHi23FlMx2xXic2834/wn2NdSkgdQVIIPQg9aAH0UUUAFFFFABRRRQAUUUUAFFFITQAE4qrf6ha6dZyXV9OlvBGuWkkbAArI1rxZBYXP9nWMLahqjjKWsJ+77uf4RVWw8LXGoXiaj4snW9uFO6G1XiC3+g/iPuaAK4vNZ8Xtt00S6RpB63jrie4Hoin7o/2jXR6TodjolqINPgWJc5ZurOfVieSfrV8RhQAOgp1ACbaMUtFACY4qleafHcjd9yQfddeoq9SEU07bEyipKzOekM9m228XKdBKo4/H0qZJEdQUIYHuDWwyBhg8juKz5tGhLl7Zmgf/AGDwfwreNXucU8PJfCQZpc0ySz1CEceXOP8Avk1GZLhP9ZZzD/dwa15k+pi1JbonyKM1B9oP/PvP/wB+6BLM3+rtJm+oAouhE2aQsB14A6mmpbX8x5SOBfVjuNWItHj3brqRrhvRvu/lUuaRcac5bIpJLJdSbLJN/rIfuj/GtGz09bc75D5kx6uR0+lXY4kRAFUADsBUgWsJVG9EdVOgo6y3EC560o4paKzOkKKKKACiiigDO1TRLDWbUwalax3C9iw5U+oPUH6VgHTPEXhvD6Pc/wBsWSnmyvHxKo/2JO/0YfjXYUhGaAMHSfFmnanI9q5ksr6MZezul8uUfQH7w9xkVc0nWrPXNP8AtmnTLLFuZCQejA4IPpyKyfHHh6517RHg0uCya+5EU92D+5P95SvINeb+AvAnjL4d31zbXusWl5ZalndGhbcj9S4yKTdkJ7HpN7c/2ndFV5tYThef9Y3r9KAKbFGIo1RBhVGAKfWBg3qFFFFAgooooAKKKKACiiigAoNFFADWUMCCMgjBBqbR7trO4FjMxMT8wsT0/wBmo6hniMsZAOGX5kPoad7Di7M6pTk0+qGlXv22ySQjD42uPRh1q/WydzovcKKKKYBRRRQAUUUUAFFFFACEZo2ilooATaKTYKdRSsgE2ik206iiyAQKBS4oopgFFFFABRRRQAUUUUAFIQD1paKAK15ZW99ayW93Ck0LjDI65Brlm0bWPDEhl8NOb6w6tps78oP+mbHp9DXZUhoAxtF8T2Gt744HaK6i4mtZl2SxH3U/z6Vsg5rD1zwxZayyTuHtr6P/AFV7bnZKn/Au49jkVlR67qvhyX7P4qiNxaZwmqW6Hbj/AKaIPun3HH0oA7KioLa6huoFmt5UljYZV0YEMPqKmzmgBaKKKACikyPWsPXPFFrpUi2duj32pSD93Z2/Ln3P90e5oA1by8hsbd7i6mSGGMZZ3OABXKPqur+LSYtADWGlk4bUZFw8o7+Wp/8AQjT7LwzfaxcJqHjCVJ2B3Q6dGT5EH1/vt7nj2rrUQIoCgKAMAAYxQBm6J4f0/QrYxWEOC53SSucvI3qzd61QMUUUAFFFFABRRRQAUUUUAJijaDS0UAJtFG0UtFADdo9KXaKWigBNoo2ilooAQCloooAKKKKACiiigAooooAKKKKAGmuXuJvtWsTyfwxfuk/rXRXc3kW0sh6Ihb8hXL2P/HojEcvlz+JzWU30IkWaKKKgxCijNFABRRRQAUUUUAFFGaM0AFFFFABSGlpKBEukyGDVpIjxHcLvX/eHX+ldCp965SWTyLi1nPGyZQT7NxXUp1rSnsbwJKKQdKK0LFooooAKKKKACiiigAooooAKKKKACiiigAooooAKKKKACiiigAooooAKKKKACiiigAxmo5YVlQo6hlPBBGQakooA5K48MXmj3El74RuFty53S6fKcwSn2/uH3FXNF8V22oXX2C9ik0/U0Hz2s/BPup6MPcV0BUGszWNB0/W7YRX8O8qcpIp2vGfVWHINAGmGBqOe5itoXlndY40GWdjgAVwGoeJtR8AzJaaiz69bSAmAQDN2gH95Rwy/7QxVrSbB/GkUWra9dw3FoTug061kzEn/AF0PV29uAPSgCw2t6j4ocweGAbayzh9TlThvaNT1+p4rZ0Pw5Y6JG32RC80nMtxKd0kh9Sx/lWokKRoqRgKqjAUDAAp6jFACgYpaKKACiiigAooooAKKKKACiiigAooooAKKKKACiiigAooooAKKKKACiiigAooooAKKKKACiiigDN1xiukXJHdMfnWPEuyJVHQACtfXv+QPcfQfzrJU8D6VlLcyqbjqr3t7Fp9nJc3HmeXGMt5aFiB9BVisrXryG301oZZ4opbn91EskgXcScd6gzWrGWXijTNQ1p9JtnnN7HGJXieBl2qehOa1x9DXmT3sEfxJ8YPBfRo40SPypI5QCWVT0PcisjwXrmpal4h8ORX2r3QhuNLkeUNcZLyAn5iKqxbieyZ5oz6V5RqusXg0DxuU1W8SXTXVrQxz5VcjHDjr/u9qm1Dxo8/w+1OzjkuLfUrDT4ZvtkdxvVy2P4x/F6iiwuU9RJxRz6GvHD4n8ReRdObqZLy3NotjbrLvFwj43Mf72ec+lUfFfiTW7fV/E62+p3MaQ39mibbojyg2d6qvcZ/LFNRHynuP4Gj6A15TrXim90nx/rMX2i8uNLjsrfzPJnybZWA3SKp6n6VV1/Wbiz1zULey8R3U9tF4bM9vL9oxvlzw3H8WO1Ll6hynsH4GgZ7A149c6/qCt4T2atcsbvw/JNN/pOA0oTIZvfOahj8QasfB/hScavcXU90kwuLYXBR2OD+8LdguOlPlDlR7RRXJfDG9udR+Hem3d9dSXVxIHMkkr7mzvPGa62pehGzK1+D9gmPdRuH4HNdVA2+NG9VBrl77/kH3H/XJv5V09oMWsXrsGfyqoGtMnFFFFamgUUUUAFFFFABRRRQAUUUUAFFFFABRRRQAUUUUAFFFFABRRRQAUUUUAFFFFABRRRQAUZpCcVj674jsdCjT7U7SXExxBaxDdJMfRV/rQBrSypFEzyuqIoyWY4AFclN4gv8AxBK1r4TULADiTVJVzGvqIx/GffpSRaJqfiZluPFB+z2Wd0elxP19PNYdT/sjj611UFrHbQpDBGsUSDCogwAKAMvQvDNloqySruubyY5mu5/mkkPuew9ulU9R8KFLx9R8OXH9l3zfM4Rf3U/++nQ/XrXT0UAcxp/iopdpp/iOD+zL08KzNmGf/cf+nWulVg3SqmoaXaapaNbahbxzxN1Vx+o9K5o2eueExu04yaxpSnLWrtm4hH+wx++B6E596AOyorL0XxBYa5atLYTbih2yRMMPE391lPINae6gBaKKKACiiigAooooAKKKKACiiigAooooAKKKKACiiigAooooAKKKKACiiigAooooAKKKKAKGsR+bpNyo6+WSPyrBtpPMt43PVlFdU671KnoRiuSgQwtLA3WGQr+HUVlMyqLqWDVOfS7K6vory5tYpp4VKxtIgbZnrjNXB1pagyM+40XTrm7trmWyt/PtnLRyCIAjIII6dKtrBCjBkgiUqMAiMDFS0U7lXdiIwxbGj8qPYxyy7Bg/UUCCFYyghiCN1URjB/CpaKLiuxgiiDKwijDJwp2DK/SmtbwOWLQRMWOWJjByaloouO7I/KjLMxhjyw2sdg5HoaYbW3J+a2gPGMGJenp0qeilqF2VobG0gjVIrSFFXO1RGPlz2FSC3gXG2CIYGBiMcCpaKd2LUYiJGgWNFRR0VRgU+ikpAVdQJa1Ma8tK6xj8SBXXxgKoA7CuYhjFxq9rF18smU/h0/nXULxWkDaCHCigUVoWFFFFABRRRQAUUUUAFFFFABRRRQAUUZooAKKKKACiiigAooooAKKKKACiiigApjyCNSzkKAMkk9KzNb8Q2WhQh72X53OIoEG6SU+iqOTWEumar4scS68X0/TDyunRth5R/wBNGH/oIoAlu/E95rNw1j4QiScqdsuoyj9zD6gf3z9OK0NC8LW2ku11LLJe6jKP3t5Ocu3sP7o9hWtaWdvZ26W9pCkMMYwqRrgAVYAx0oAaFxTqKKACiiigAprrn2p1FAHPaz4UttSuRf2kklhqaD5Ly3OGPsw6MPY1Rg8T3miXCWni+BYVJ2x6jCP3Mh/2u6H68V12KiuLWG5geK5iSWNhhkdcgj6UAOjmSVFeNg6MMhlOQakFca+gap4dmNx4Um8206vpU7HYf+ubfwn26VqaL4pstYdrf57W+i4ls5xtkQ/Q9R7igDeopobinUAFFFFABRRRQAUUmcUhb5aAFzRmqU+p29vw8qlv7q8n8qqtrEjf6i0dvQv8tWoSZlKrCO7NbdRurHOoXx/5YQr9XJ/pSfb78f8ALKA/8CNP2ciPrEP6Rsg0uaxxq1zH/rbMkesbg1PFrNtIQruYmPaQbaTpyQ416b6mlRTEcOoKkEHuKfUG4UUUUAFFFFABRRRQAUUUUAJiub1iE2uqJcgfJcDy3Pow6V0tU9Qs1vrOSB+Nw4b+6exqZK4pK6MMHJpaggdzujmG2aM7XH9fpU4NYnOFFFFABRRRQAUUUUAFFFFABRRRQAU0nHWnVBJG91cJaQ/ek5c/3V70AX9Ah3+dekf64hY8/wB0VtrnNRQxLDEkcYwqgACpV61slZHRHRElFFFUMKKKKACiigmgApuRSlsdaz7i+xIYbVfNm7+i/Ws6lSNNXkNFySZYlLSMFUdSTVBtUMpxZQSTH++flX86Ylj5jeZeP58nYH7q/QVbVMVwyr1JfDoPQqldRlyXuI4Qe0abj+ZpPsLtzLeXL/Rwv8hV2isGm/ibfzHcp/2cn/Pe5H0mNJ9imQ/ub64X2fDCruKMUuVdB3KfmajDz+6uFH/AGqaLU4mYJMrQOe0nT8+lTYpksSyoVdQwPUGtY1KkdmLQsq2ec8U8GsjyJ7I7rJi6d4WP8qu2l7HcqduVcfeQ8EV10q6m+V6Mlot0UgNLXUIKKQnFZ2r69Y6HaefqMwjBOEUDLOfRQOSaAL7sAOTXK3/ie61C7fTPCMK3lyp2y3kn/Hvb+uSPvN7D8ag+wav4wYNqfmaXpBOVtUbE04/2yPug+g5rqrHT7fTrRLWyhjhhjGFRBgCgDH0bwtDp9x9uv5X1HVHHz3k/UeyDoo9hXQ4oApaACiiigAooooAKKKKACiiigAooooAKx9c8NWGuqjXEbR3MfMN1C2yWI+oYfyPFbFFAHGLrGseFX8vxKhv9OHCalbp8yf8AXVB/6EPyrq7O+tr+1S4s5454ZBlZI2yCKlePeCDgg9Qa5a78KT6bdvf+E5xZTsd0lq3MEx9x/CfcUAdZnNFc1pHiyO4uBYavbtpupdPIlPyye6N0YfrXRhqAFJpCaRjWZe37I3kWvzSkfM3ZKqKcnZETmoK7LF5fxWuAcu56IvU1myvd3Z/fSeVH/wA84zyfqaSGEKS5O526uepqcDiuiMFE4JVJTIooIohiNAvvipcUYpashJLYQ0YopaBiGo3jVxh0DD3FSHmkoFo9yBIZLZs2crRj+4eVP+FXbbVA8giuk8qTsSflb6GocVHLEsqbXGRUyipbjjOUPhNxSKcKwrS7ktHEVwS8B+7Ieq/WtuNwVyOh71zSi4ux6FOopofRSZpak0CiiigAoopCwFAC0h6VUv8AVrHS7cz6hdRW8Y/ikYCuefxZfao4TwtpEt2h/wCXu6zDCvuM/M34CgA1TUNImuGmstUsTdw/LJF9oUFh6EZ60ltPHdQiWFwyN0INeZeKfgzfeK/iPp93qUsSwvF5t/LaReWhwThB3JPqa9WPhuHS7OJdEjESwxhBDnCuB/WspR6mcodUNHSioYbgSZUgpIv3o26ipc+1QZC0UZooAKKKKACiiigApCaCahaXMvkwIZZz/AO319KAFmmMeFjXfK5wiDua2NL042UJaUh55DmRh/Ie1Gl6V9mzPOwkuG6tjhfYVqdq0jE1jEZTlGKWlrQ0CiiigAooooAKRjigms/ULllC29uf30nQ/wB0dzWdSooR5mOxHd3UlxMbazbBH+slH8HsPepYLdLeMLGPqT1NJbW6QRBU/E+p9anFeVeU3zSKExSimTBjE3lsFbHBIzg157F411aDRE1G4uLG5kF8bVrKJNsjASbMr8x571pGDlqiT0U0tYS+LNKN7LZ+fJ9pikWN4vKbcpbp2/Wpk8Raa96tqLoGV2ZU4OHZeoB6Ej0puEkBrGiufbxnoyymN55lYRvKQYHHyr949O1KvjLRnCbbmQ77Y3S/uW5iHVunSjlkBv0ViyeJ9Mj0y01B7hxbXjKkL+U3zFunGO9Tf8JBpy6jFZG6AmlYogIIDMP4QemfajlkI0yKq3Fr5kgmhPlzqOHHf2NWlOc5oIrNxuNMZZXpnBjkXZMn30/qParbORisy7gfctxb8TR9P9oehrCeLWvFkrJM7aVpKsVZI2/f3GOuSPuL9Oa7cPVcvdluNlrUvFcs96+meGLZdQvhxLKTiC293cd/9kc1LpHhWO2uv7R1edtT1Q/8t5R8sXtGvRR+ta+maZZ6VYpa2FukEKdFQfr71cwPSuskQLg06iigAooooAKKKKACiiigAooooAKKKKACiiigAooooAKQjNLRQBn6to1hrFmbfULdZUPKt0ZD6qeoPuK8q+I3i+/+Gnh+4tF1mO+MyYs1lkxdQn3/AL6+5wfrXsjVl6lpmm3MbzalY20+F5aWJWOPxoE2krs5nwV4+i8Z+C7TULMr9qkHlzIDny3HXNbcMQiTH3ieWJ7mqelaZZWEbtY2UFoszbikMYUfpWjiuuK5UeZOfPK4ClpKXtVEoWikopjFopKKAFpDRRQIKQ0UtADGUMpDDIPXPenWFw1rMLWViY2/1bk/pS4qG4iEsRXoeoPoalrmVhxk4O6N1afWfpt39otxvP7xDtce9WLq9t7K3aa7mjgiXq8jAAfnXG007M9OMuZXLFNLYzXLv4xe/YxeGdOn1N+nnkeXAPq56/gDTP8AhHdZ1j5vEmruIT1stPzFH9Gf7zfmKCi/qnjDSNNlNv55u7ztaWamaU/VV6fU4rP83xXrq/uoovD1qf45cTXB+ij5V/Emt3S9F07RoPJ0yzitlPXYvLfU9TV8Lg9KAOesPBel29wt3eiXU7xeRcXzeaQfUA8L+AFdCIwFAUYHoKdRQA0KBRgU6igDPvtKt74bnGyUfdlThhWLPaX9iP3kRu4x/wAtIR8w+q/4V1OBQVBHIqHFMhxuclFdwzMRHIpYdUPDD8DzU3Trx+Fbl1ptreDFxbxyD1K8/nVA+HLdf+Pae4g9lkJA/A5qXBkezKXNLVg+Hrgfc1SXH+1Gh/pQPD8+4b9SmI9FRB/Sp5WHIysc/hUL3cKtsDeY/ZIhvY/gK1F8PWmc3BmuCP8AnpISPyHFaNtaW9su2CFIx/sriq5WNQfUwbfTr29wZR9ji/Nz/QVt2en29km2CMKT1Y8s31NWwuKMVaikaKKQijFOooqhiYpaKKACiiigAooooAjldUjZmOAoyazLNWmZ7qQYaX7o9FqTVGLpHbofmmcA/TvU6ALwOAOBXmV5c9Tl6IrZCgUtFNZgilnIUDkknAFZhcSXd5Z8sZbHAJxzXnD+CNVuPDL6c9jY295JePOt8suWh3SFsjAySAa9Aj1Kymz5V3A5A3ELKDgetKb21EaubiHa5wreYME+ma1i5RWiBnJX/h3W21621uxS3+2WzLbsry4We3x8xbj72eRVZfC2q2ei2lpJHFcrpd493A0cmHmyWKqc9D83J9q7U6hZ/wDP3APm2/60dfTr1pDqFmMg3cAw23/Wjr6U+eb6COGvtB8QT6lFOunxYlsJrV/9JHyPJzk8dM+lMsfBms2RiKxRORoj2D77osBISDxkdOK7/wC0wed5PnRmTGdm8bsfSnRzRzA+VIrhTg7WBxVc8l0A84h8GeJ0sbC0eaE21qbc+S9wXwyH5mBxwCO1a+i+Fr/Ttak+0Wen3FqLl7iG7ZiZk3HONuMZGeuavTeLzaeKhot9pklsHiaWG5eZdkoXsPf2qOXxdfJa2flaBM15fSlLe3adQCoGS7Ng7RinebQzqlp1YXhrxJ/by3sU9m1leWE/kXMBcOFbAIww6jBFbtYSTjoJgapRt9i1Db0juD+TVdqrfw+bbNt++vzKfcVDbj7y6DNNelLVayn+0WiSD+Ic1Zr1oyUkpIkKKKKoAooooAKKKKACiiigAooooAKKKKACiiigAooooAKKKDQAhOKyNYl8ySG1U/fO5/8AdFazdKwGbz9UuZOoTEan9TWlNXZzYiVoW7koGOg4qnrGs2Og6bJf6rP5FrF9+UqSF+uKu1xfxckVfhProZ1Utb4AJ+8dw4rok7K5ywim0jbfxZosdvZTyXyxx37BbYurDzCenUVs5Arynw54suLCeDTNVhtZvO0qOTSrlR8shVPuck/MDUWk+KNdlNmZb+eU3WnXE14CwxbSLnaR/d9Ky9o7XN/ZLoetbhS5rxPwb4k1vWPEHhqz1DWbxIbywmklYXQPmuG4Psa1fBPjqa2vLqy1qa7vxNqklpbTGYSMgB4yvXHvVKoQ6PY9XzRmvF9L8Wa7LrxsZ9SuTpsmtyW814ZRmKMKSqA4+XnvSTeLvEUkXhkzXtxG1xc3MThZRH9ojTOxyT/PvR7QfsX3PaCaM4rxL/hKtZHw+0PURq93JezawYZEFwA0ibj8mfwq9rvi24k8INq+na9fW1zJqkME1nI6q1qckOv0NHtBexfc9f3YpdwrxS98U6rH4b8XXMOvXbSWV/HHbMs4JRCRwPrUkfiTWmh8YsPEMsBsbOGS282TdsyuWA/2j09s0ucPY67ns+aTrXmXw017UtW8Va1DqN1dmOGCB4ra4nEhTcuTXporSLvqYzjyuxnXyailzGukXMNq90215ZYy4XA6gZHNTWvgux88XOryz6vc9d922VB9kHyipLxT9nLj70ZDr+FblvJ5sSOOjKDWNVa3OnDS0cR8cYRdqgKo4AA4FSDikFLWJ2BRRRQAUUUUAFFFFABRRRQAlFLRQAlHNLRQAlFLRQAUUUUAFFFFABRRRQAUUUUAFJ2NLQfu0AZJ/e60x/hhixj3NWxVS1+a8vH/AOmgX8hVsV4y1bfdlMWs3XL+307R5ri9RpIsbSioXLE8AYHWtHOaRgD1ANaLcSPITHY2eqaglnoc0xk0uBUiW2ePzGWU+ZjgE4BUkd6bNp1yLOSAadcL/wAT2Oa3LWhKpGQCTt7CvX8AsGI5HQ+lOyK39r5DPGZNLuPscqGwc3R8QpKswsG27Mctj+71pJNMmSwuRJp0jXX/AAkImEo09ipQAfNt/u17PkUufel7V9hHkdxFrur6tLejS3tr86ZNFFKkJUMQ3ynn7pIHQ10vgKxii+0XqWup2008aLOl6oQbl/uqP5967bIFGRUyqXQHBeK7T/hMPtNnbw3FtJpf7+G5eBhvlHICnHI7GqGoeMdZu/Del/ZNNv8AT7mdjHdzCyZ2twByVXHftXpeRRn3pRnZAcV4bv8ASND0hTZ2mqFrq8VJ5ruBllllf+Ns9q7YfdqKWOOXb5iq+07l3DOD61IDxUyfNsA6kPP0psjrHEzuwVVGWJ7Cq9tqNleOFtbqKZigkARgTtPeotoMdpTFPPg/55yHA9jzWmKybQbNVuQP41U/0rVyMda7cI70l5aCe4tFJvUdWH50nmJ/fX866hDqKja4hX70qD6sKifULNB813APrIKALNFUG1jTl639qPrMv+NMPiDSE+/qlkv1uF/xoA0qKyT4o0FfvazYj/t4X/GmHxh4cXrrmnj/ALeF/wAaANmisF/G/hhPva9p/wD4EL/jUZ8eeFh/zHbM/STNAHRUVzZ8f+Fx/wAxq2P0JP8ASmn4heFx/wAxeI/RGP8AIUAdNRXMf8LC8M9tQZvpbyn/ANlpD8QvDg6XdwfpZTH/ANkoA6iiuVPxE0AdJb1v93Trg/8AslIPiFpB+5Bqj/TTZv6rQB1dFcmfH9h/Dpusv/u6dJ/UUjePYGU7ND18nHBFgf6mgDqZThCfQVz9iN0LP/fkZv1ryvSfjXrNv44vPDOp6NdaoglKxTQQ7ZkU9A6Zxx9RXqmnHdYRNtZcjOGHI5rel1OLE/EizUF3ZWt9D5V7bxXEec7JUDD8jU9FbM5rtFQaRpqxwqthbBYDmIeUvyH244qRbK0XzNtrCPNGJMRj5h7+tT0UrIfM+5Sh0bTIJI5INPtY3jGEZIVBUe3HFOh0nTrWYz21haxSkkl0hUE/jireKCM8EZHcGjlQ+ZmctnpCwTJFDZeWx3zAKmCfVqklsdNuY4pZre1mSEYjd0UhB7HtXlGv2Nr4G8fSTRRqfDeulYdRBj3LbSE8c9gf61qfFvQ0h8HwXenX9zZ2lrLCqWVuQsMgLjkjGazubcjvuegro2l+WkY0+12I29FEK4VvUcdadLoumT7/ADtOtZPMbc+6FTuPqeKms/8Ajxt/+uS/yFT5q7Iw5mupnJ4e0eMybNLtFEuN6iFcNjpkYp50TSzvzp1ofMxv/cr82OmeKvZozTsg5mVoNOs7e4ee3tYYppOGkSMBm+pqzijNFNE7jZF3RsPUYq5oz79Mh9lx+VVTVjQv+QcP95v5ms6vwm+H/iGmKKBRXMegFFFFABRRRQAUUUUAFFFFABRRRQAUUUUAFFFFABRRRQAUUUUAFFFFABRRRQAUdqKKAPOfGWo32nSWn9nXE0TT6j5UiQlQzqVJ/i+lc/N4z1R/Cq3K6qV1GC1mleBI1GSj4yxP5YHWvQbvRNN1XUZ49UsYLry2WSPzUztJGMipG8M6K6Rq+l2jLEhjQGEfKp6j6V5tKUYxs/MpnDX3iHXX/tm7tdXWL+z1tpobcRKRKHQEqe/NQ3viPV9mslNUmia3v7eNB8oESPtyvT3NdVpvg5bXxLqGo3kdlNBP5f2aNYSGgCLtAyeK1JfCuhzibztKtX8+QSy7ox87DoT71rzxFY5V/EV3/wAJVaQ2+q+fay38lnMpVVVMRFgB3LAjrWVYa9rd5c6Hbtf3cYub24ie4YxlZVUsFGBzxgV6EPDmjeeZf7LtfMZw5byhktjGfrgkZpkXhTQoGgaLSrVGt3MkREf3GPUj3pc8ewzjWutWitvFLjX7ljpYKw52f8892enrTP8AhLbi6tNDtY727tr/AM+2F0JAp81JFJzkcdQa7b/hGNF/0rOmWx+2f8fHyf63/e9aSHwpoNuqLBpNogjcSLiIcMOh/Ck5xaAr+KftcWlvPY3k0DwIzeXFtzIccde1cLdeKtYaNpre9uLjdoP2o/Z9irHLuxvw3PavTr3TLTUYfKvreOeP+64yKqP4W0OR2d9KtSzReST5Y5T+79PapjKKA4S48VX8Gm2k0WstNOkVq00ZRQB5hGSx75z26VN/aHiGx1Owhv728QzanIoDKgWWHaWUA49hXa/8ItoYAH9k2mFQRj90OFHQfhVi60XTr2e3mu7OKaS1O6FnXJjPqPSrU4hY4G18Q61qWmXGpx6raRQtaTFrdJA0sUi9MDHy4xzmqln4k1m6Uma+urbbohuRvKHfJ/fGK9EHhrRQ10w0u1DXYxcERAeb9aj/AOER0HjOk2vEXkj92Puf3fpRzwtYDhl1rVJoY9+rTBX8PNdEHb80ox82Me9J4Zdv7WtII7z7HBdaL58jxqiEvkfP046mu5bwloLbd2kWh2w+QP3Y/wBX/d+lOXwvokUiuml2wZYvIUiMcR/3fpSc420EkUE8PWOsNBHdXt1dpDAu2eO5ZDJ7kqRmph8O9C/iW7f/AHr2U/8As1X9It4be4nitYlighVYkRBgKB2FbQ6CtcL/AA7+bCW5y/8Awrvw7/FZM3+9O5/rS/8ACufDB+9piN9ZGP8AWuoorqEcwPh14VH/ADBrcn3BNSDwD4XUf8gSzP1jFdHRQBzw8C+GQeNDsf8AvyKkXwX4bVsrodgP+3df8K3aKAMlfC2hL93R7EfS3X/CpF8O6OvTSrIf9sF/wrSooAoLomlr93TrQfSBf8KlGm2QHy2duPpEv+FWqKAK62NsvS3h/BBTxbQqeIYx/wABFS0UAM8pP7ij8KXy1x91fyp1FADdg9B+VGwelOooAbtpGTcpBp9BoAxdN8NaVonnvp1lFDLcOXllC/O7HqSetVrA4tdvdXZT+ZroG6VgAeRqF1FjA3Bx+Irek9TixK1TJ6Wuf1vxfY6FrFppt1DcyTXcbyRmJAVwoyckkelWPDfiSz8T6JHqlgksdtIWC+coU/KeTwTWnMjDkdrmvS1y9v4+0m7uUit0un85nS3cRALOyH5gpJ61FafECyvIdRli03UdmmMy3J8tPlZRkj73pRzIfs5HW01l3AgkjIxkHBrkNM+Jej6o0ax29/A09q13bieDb56L12nPNGmfEvR9Vu9Pt7a2vg+oQvNDujUfKvXPzUcyH7OSNK58GaTd6Hc6RdrPcWd1J5sqyzsxLfWpZfCelXHh2PRLiKSawjKlUklYkbTkc9aydP8AiVpGpXGmxQW19nUp5IIC0Sgbk+9n5uBVyDx1o9xrcWlxfaPOm80RExYDmM4YDv2qbxK5aiOhRFjRUQYVQAB7U6uOs/ido97dWEENrf77+5e2hBiXl065+bgUi/FDRjNHEbW/DS6gdPUGJeZR1/i6e9VzxJ9nI7GjNcjL8S9Gju2gS3vpVW8FiZFiXb5vpy2fxxWt4ns9YvvD9wvhy+aw1FULQMUVgzAfdOQetHMnqhcjvZmxkUZrz/wJ4g1DxfYwTtez29zpoaHULVlT97MPw4FZ3/CQeL9I8VaNb6xfWs0+p3TJJpEUakwQ9n3Dn86XOV7LzPUHbarE9gTVvRVK6bFnvk/rWdekrayBfvN8q/U8VtWkfk28cf8AdUCpqbFYde+WRRSClrnO8KKKKACiiigAooooAKKKKACiiigAooooAKKKKACiiigAooooAKKKKACiiigAooooAyrgeTq0Un8MqFD9RyKt4qLU4WltSU/1kZ3r9RRbzCeFJB0YflXlVIuNRrvqWS4FQ3McstrJHBKYZGUhJAM7T64qekxxQtwPLfhwmqWvxJ8XWOr6vPqklusG2aUbeozwo4Fdbr3jWz8P6xZ6dc2OoTyXeAslvbl0XJxye3WrmneGrHTPEWpa1b+Z9q1LZ5+5sr8owMDtWsdpPNaSlFsRzHjrxXceEdHtb22to7jz7uO3YSuVChzjPFc7/wALXkjtdYkuLCMNZ6mmm24VziV2/iPoMGuv8UeFbLxbp8VnqbzLDFOs6+UwUll6Z61lP8MtCltNUt7k3My6pci6lLSDKSjoykDg1UZQS1AreIvGHiLw54Vl1e90mzQxShDF55beCwAYED3qLW/HuqaHq+kWVzY2rf2jBLLvWRvl2ruAxjnNbmpeC7HV/DA0O+ubyS3yrF2mzIxU5GSR7VHq/gXTtZ1HTr27luRNp0TRwFHA4YYORjk4pqUOojk4Pi1eyaH4d1GXTraNdZmeIhpWxFt79OelX9I+JN5qXhmLVG02FTNevaqBN8q7c4PPJyewq/D8L9GgsdKtIri9EelSNJbfvBkFuueOaWD4YaJBZWlqJLxktLtruI+dgh269B0qr0wNfwX4k/4SvwraawYPs7T7g0YbOCrFTz+Fb1cpp3gDS9Lh02Kznvo49OleWFBcHBLHJDDuOa6odKwly30GOpkjBULE4AGacap6gxeNLdPvzNt47DvWcnZDRLpSZtDKeszl/wDCtGoooxHGqKPlUYFS16VKPJBIlhRRRWogooooAKKKKACiiigAooooAKKKKACiiigAooooAKDRRQA1hmsfVo/JuYbjHB+Rz7Hp+tbVV7yFbi3eJhww/Kqg7SuY1oc8TgPE/hCbxD4j0zUkvI4UsY5EMbITv3AjqD71b8H+GW8M+F4tImnW5EZf51XbkMScYrat3OGhl4li+Vs9/erArfkW5xe0ly8rOG0f4cJpl/pjPfeZa6XNLNbRhMMS5zhj3xTf+EYl8P8Ah7xbLJcrcf2mZJ1VIyCpK4x713dNHFHs10L9tK+p5p4T8IzavoHh/ULu5WJ7HS3tYoTEQVdxgls+npVjQfhhc6JfaRcf2lBKdOglhP7o5fec568Yr0QClzRyIPbSPNtN+G+paTdaHJFqFtOul3stwVKFS4kPzc57Zq1ZfDq/tvElpq9zrgupLeaeTEkJyyydic9q7/Iop+zQe2kea6b8KptO1TS74ahbmSwvpbpsRH94H/h69qE+Flyl9Hc/2pCWTVzqQzEe4xt6/rXpOKKXs0HtpHneofDCfUPEcmsS6hbi4e+S6wsJAVV6KOep9a7XVYNQuLHytMuIIJWOHeVC3y98YNX6WqUUlYh1G3c4pfA1zp3jhvEHh++t7FLiARXVr5RZZiB97r1qj4b8Ba94f1ybUm12zupLmYvcSy2W6V1P8IcngV6HUcsixRs7dB+tLkQ/aysMRPtOpxRD7sX7x/6VvKKztJtmihMso/ezHc3sOwrTFYzldnVh4csNQFLRRWZ0BRRRQAUUUUAFFFFABRRRQAUUUUAFFFFABRRRQAUUUUAFFFFABRRRQAUUUUAFFFFADGTPNZSD7DfGA8RTHch9D3FbBqteWy3MBQ8HqD6H1rmr03ON1uhoQUdqqWlwxZre44mT8mHqKt9RXAnco5X4i+JLnwr4Nnv9PCfa2ljghMgyqs7hckd8ZrK8K63rtt44ufDPiS/h1I/Y0u4bhIBERk4ZSBxXReMfDMXizwzcaVLKYDIVeOUDPlupDKcfUVk+GPB9/pviC513xBqUeoahLAltGYYvLVI19vU10xlFQ1EzoV8Q6O2rnSl1K2N+Ott5g8zpnpS6tq66TEkj2006sTnygPlAGcnJHpUaeGtGXWjrC6bbDUT1ufLG/pjrVTVdJ1LUL6UpexLZm3KRwNHyshBG4n0welZ8sbjKFv8AErQ7nT7K6hW6Y3yyPDD5Y3lU+8xGeBSXHxJ0OHSp9SC3clpDAs/mrD8rA9gT1I7isDT/AIW3enafpXl6hD9tsIZrct5ZKOknt6iq2qfCK8v9Bh0ddXC2VpaGK3jKsAZWbLSNjr1IArW1Mk6u/wDiHpWnabNfXNtfCCGFJmcQ8EOcAA5xn2rprS6S8s4bmMEJMgdQ3UAjPNeay/DPWP8AhEdS8PxatA1leGN4llVmMLDG4D2OK0tK8GeI9JtL37Dr0cE05iEUYjLxQhOGwG5yRScYW0YHfgijNNiDCNQ5ywAycdTSnjnPFc4CM4VSWOABk+1V9PU3Mz3bjAPyxA9h61E27UbjyY/9Qh/et/eP90VqxIEUKowAMAela0IOcuZ7Ib0HgYpaKK9IkKKKKACiiigAooooAKKKKACiiigAooooAKKKKACiiigAooooAKYwp9JQBk6laMHF1AMuowyj+IVDFKJUDr0P6VtMMjFZF5ZSW8rT2i7lPMkfr7it6c+jOGtSafNEKSmRSrKuUP4HqKfmtzmuHNFLmkpDFpBS0lMBTSUmaUHNIApTxSUjMFXLHAoAUnHXAplrB/aFysjf6iM5Gf4z/hTIoX1FhtytuPvN3f2FbcMaxoqIAFHQDtWU520RtSpOb5nsPXjFPpMUtc+p6AUUUUAFFFFABRRRQAUUUUAFFFFABRRRQAUUUUAFFFFABRRRQAUUUUAFFFFABRRRQAUUUUAFIR60tFAFO9slulBUlJEOVcdR/wDWqrFdMsvkXi+XL2P8L/StWoLi1juYykyhl/UVx1cPzPmhoyrjaOKptBdWQ/df6TF/dJ+Yfj3p0N/BK23JR+6uMGuNvldpKwblqkoDAijNMQuB3opM0ZoELgYpKRpFRcsQB7mqj6gkjbLRGnfOPlHA+pqXJIdi0zKoLEgAdSe1U90uoN5cG5IP4pem72H+NSLp8tw26+cMO0Sfd/H1rRRQqhVAAHQCuinQlU1loh3sNghSCJY41wqjFTYxRRXoJJKyJCiiimAUUUUAFFFFABRRRQAUUUUAFFFFABRRRQAUUUUAFFFFABRRRQAUUUUAIRSEcU6koAzbvSxK/m27eVN6gcH6iqDSvbttvIzGf7/VT+NdCQTUTwiQYcAj0IrSNRrc5qmHUtY7mQpDLlSCPUUoqeTRYeWt2aBv9g8flUDadfxfclilH+0uD+lbqpF9TllSqR3QtJTPKv162yt9JKPLvz0tFH1kp3Xci0uzHUvSmrZ6hJ18mIfi1TR6MG5up3l/2Qdo/Sk5xRcac5bIqtcqH2RBpZOyoM/n6VYt9NknYPfHA7Qr0/E960YbeKBdsMaqPYVOBWMqreiOiGHs7yGogRcKMAdgKUHmnGkCmsjqWmg4UUUUDCiiigAooooAKKKKACiiigAooooAKKKKACiiigAooooAKKKKACiiigAooooAKKKKACiiigAooooAKKKKAEIBqCa1hnGJkVh7iiiplGMlZoZUOkoh/wBGnmh9g2R+RpPsl6v3LxW/34/8KKK46tCnHVIYn2fUv+fi3H/bM/40v2G7k/1t8QP+maAUUViqUWxjk0m33BpjJM3rI2f06VdjjWMbY1Cj0Aoorvp04R2Qh4FLiiitFsSLRRRTAKKKKACiiigAooooAKKKKACiiigAooooAKKKKACiiigAooooAKKKKACiiigAooooAKKKKADFIRRRQA3aKNooopCegm30o2GiimCADBqQUUUDCiiigAooooAKKKKACiiigAooooAKKKKACiiigAooooAKKKKACiiigAooooAKKKKACiiigAooooA//9k=)"
      ],
      "metadata": {
        "id": "Ds29Qvw21WXz"
      }
    },
    {
      "cell_type": "code",
      "source": [
        "# w3 - веса для кон !х1 и х2\n",
        "# w4 - веса для кон x1 и !x2\n",
        "# w1 - веса для диз\n",
        "\n",
        "def xor(x):\n",
        "    res1 = predict(x, w3)\n",
        "    res2 = predict(x, w4)\n",
        "    res3 = predict([res1, res2], w1)\n",
        "    return res3\n",
        "\n",
        "\n",
        "\n",
        "for x in x_test:\n",
        "  print(x, xor(x))"
      ],
      "metadata": {
        "colab": {
          "base_uri": "https://localhost:8080/"
        },
        "id": "mDB_YDw52Vg5",
        "outputId": "2dde69db-6eae-470d-f67e-d2b83d0f9f1f"
      },
      "execution_count": null,
      "outputs": [
        {
          "output_type": "stream",
          "name": "stdout",
          "text": [
            "[0, 0] 0\n",
            "[0, 1] 1\n",
            "[1, 0] 1\n",
            "[1, 1] 0\n"
          ]
        }
      ]
    }
  ]
}